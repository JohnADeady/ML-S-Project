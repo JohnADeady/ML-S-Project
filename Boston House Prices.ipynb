{
 "cells": [
  {
   "cell_type": "markdown",
   "metadata": {},
   "source": [
    "<h1><center>Boston House Prices</center></h1>"
   ]
  },
  {
   "cell_type": "markdown",
   "metadata": {},
   "source": [
    "<img src=\"https://upload.wikimedia.org/wikipedia/commons/d/d7/Boston_-_panoramio_%2823%29.jpg\" style=\"width: 750px;\"/>"
   ]
  },
  {
   "cell_type": "markdown",
   "metadata": {},
   "source": [
    "   ### Introduction"
   ]
  },
  {
   "cell_type": "markdown",
   "metadata": {},
   "source": [
    "The aim of this project is to analyse the Boston house prices dataset from the UCI Machine Learning Repository, by firstly using descriptive statistics and plots to describe the Boston House Prices, secondly using inferential statistics to analyse whether there is a signiﬁcant diﬀerence in median house prices between houses that are along the Charles river and those that aren’t and lastly to create a neural network that can predict the median house price based on the other variables in the dataset.\n",
    "\n",
    "The Boston house price dataset consists of the price of houses in various places in Boston. The dataset also includes information on Crime (CRIM), average number of rooms per dwelling (RM), the age of people who own the house (AGE), neighbourhoods with more lower-class workers (LSTAT) and there are many other variable which can be seen below. This data was collected in 1978 and consists of only 506 cases."
   ]
  },
  {
   "cell_type": "markdown",
   "metadata": {},
   "source": [
    "### DATA"
   ]
  },
  {
   "cell_type": "markdown",
   "metadata": {},
   "source": [
    "Let's import the data required to complete this project, using sklearn and display the shape and the features of this dataset. "
   ]
  },
  {
   "cell_type": "code",
   "execution_count": 8,
   "metadata": {},
   "outputs": [
    {
     "name": "stdout",
     "output_type": "stream",
     "text": [
      "Shape of the dataset: (506, 13)\n",
      "\n",
      " .. _boston_dataset:\n",
      "\n",
      "Boston house prices dataset\n",
      "---------------------------\n",
      "\n",
      "**Data Set Characteristics:**  \n",
      "\n",
      "    :Number of Instances: 506 \n",
      "\n",
      "    :Number of Attributes: 13 numeric/categorical predictive. Median Value (attribute 14) is usually the target.\n",
      "\n",
      "    :Attribute Information (in order):\n",
      "        - CRIM     per capita crime rate by town\n",
      "        - ZN       proportion of residential land zoned for lots over 25,000 sq.ft.\n",
      "        - INDUS    proportion of non-retail business acres per town\n",
      "        - CHAS     Charles River dummy variable (= 1 if tract bounds river; 0 otherwise)\n",
      "        - NOX      nitric oxides concentration (parts per 10 million)\n",
      "        - RM       average number of rooms per dwelling\n",
      "        - AGE      proportion of owner-occupied units built prior to 1940\n",
      "        - DIS      weighted distances to five Boston employment centres\n",
      "        - RAD      index of accessibility to radial highways\n",
      "        - TAX      full-value property-tax rate per $10,000\n",
      "        - PTRATIO  pupil-teacher ratio by town\n",
      "        - B        1000(Bk - 0.63)^2 where Bk is the proportion of blacks by town\n",
      "        - LSTAT    % lower status of the population\n",
      "        - MEDV     Median value of owner-occupied homes in $1000's\n",
      "\n",
      "    :Missing Attribute Values: None\n",
      "\n",
      "    :Creator: Harrison, D. and Rubinfeld, D.L.\n",
      "\n",
      "This is a copy of UCI ML housing dataset.\n",
      "https://archive.ics.uci.edu/ml/machine-learning-databases/housing/\n",
      "\n",
      "\n",
      "This dataset was taken from the StatLib library which is maintained at Carnegie Mellon University.\n",
      "\n",
      "The Boston house-price data of Harrison, D. and Rubinfeld, D.L. 'Hedonic\n",
      "prices and the demand for clean air', J. Environ. Economics & Management,\n",
      "vol.5, 81-102, 1978.   Used in Belsley, Kuh & Welsch, 'Regression diagnostics\n",
      "...', Wiley, 1980.   N.B. Various transformations are used in the table on\n",
      "pages 244-261 of the latter.\n",
      "\n",
      "The Boston house-price data has been used in many machine learning papers that address regression\n",
      "problems.   \n",
      "     \n",
      ".. topic:: References\n",
      "\n",
      "   - Belsley, Kuh & Welsch, 'Regression diagnostics: Identifying Influential Data and Sources of Collinearity', Wiley, 1980. 244-261.\n",
      "   - Quinlan,R. (1993). Combining Instance-Based and Model-Based Learning. In Proceedings on the Tenth International Conference of Machine Learning, 236-243, University of Massachusetts, Amherst. Morgan Kaufmann.\n",
      "\n"
     ]
    }
   ],
   "source": [
    "# Import the libraries\n",
    "import numpy as np\n",
    "import pandas as pd\n",
    "import matplotlib.pyplot as plt\n",
    "import seaborn as sns\n",
    "from sklearn.datasets import load_boston \n",
    "from sklearn import datasets, linear_model\n",
    "from sklearn.model_selection import train_test_split\n",
    "from sklearn.metrics import r2_score\n",
    "from sklearn.linear_model import LinearRegression\n",
    "from sklearn.metrics import mean_squared_error\n",
    "from keras.models import Sequential\n",
    "from keras.layers import Dense, Dropout\n",
    "from keras import metrics\n",
    "import tensorflow as tf\n",
    "import scipy.stats as ss\n",
    "\n",
    "# Magic line in plt\n",
    "%matplotlib inline\n",
    "\n",
    "boston = load_boston()\n",
    "\n",
    "# Print the no. of rows and columns\n",
    "print(\"Shape of the dataset:\", boston.data.shape) \n",
    "\n",
    "# Print the description of the dataset\n",
    "print(\"\\n\", boston.DESCR) "
   ]
  },
  {
   "cell_type": "markdown",
   "metadata": {},
   "source": [
    "## Part One - Descriptive Statistics"
   ]
  },
  {
   "cell_type": "markdown",
   "metadata": {},
   "source": [
    "A descriptive statistic is a summary statistic that quantitatively describes or summarizes features of a collection of information, while descriptive statistics is the process of using and analyzing those statistics [19]."
   ]
  },
  {
   "cell_type": "code",
   "execution_count": 2,
   "metadata": {},
   "outputs": [
    {
     "data": {
      "text/html": [
       "<div>\n",
       "<style scoped>\n",
       "    .dataframe tbody tr th:only-of-type {\n",
       "        vertical-align: middle;\n",
       "    }\n",
       "\n",
       "    .dataframe tbody tr th {\n",
       "        vertical-align: top;\n",
       "    }\n",
       "\n",
       "    .dataframe thead th {\n",
       "        text-align: right;\n",
       "    }\n",
       "</style>\n",
       "<table border=\"1\" class=\"dataframe\">\n",
       "  <thead>\n",
       "    <tr style=\"text-align: right;\">\n",
       "      <th></th>\n",
       "      <th>CRIM</th>\n",
       "      <th>ZN</th>\n",
       "      <th>INDUS</th>\n",
       "      <th>CHAS</th>\n",
       "      <th>NOX</th>\n",
       "      <th>RM</th>\n",
       "      <th>AGE</th>\n",
       "      <th>DIS</th>\n",
       "      <th>RAD</th>\n",
       "      <th>TAX</th>\n",
       "      <th>PTRATIO</th>\n",
       "      <th>B</th>\n",
       "      <th>LSTAT</th>\n",
       "      <th>Price</th>\n",
       "    </tr>\n",
       "  </thead>\n",
       "  <tbody>\n",
       "    <tr>\n",
       "      <th>0</th>\n",
       "      <td>0.0063</td>\n",
       "      <td>18.0</td>\n",
       "      <td>2.31</td>\n",
       "      <td>0.0</td>\n",
       "      <td>0.538</td>\n",
       "      <td>6.575</td>\n",
       "      <td>65.2</td>\n",
       "      <td>4.0900</td>\n",
       "      <td>1.0</td>\n",
       "      <td>296.0</td>\n",
       "      <td>15.3</td>\n",
       "      <td>396.90</td>\n",
       "      <td>4.98</td>\n",
       "      <td>24.0</td>\n",
       "    </tr>\n",
       "    <tr>\n",
       "      <th>1</th>\n",
       "      <td>0.0273</td>\n",
       "      <td>0.0</td>\n",
       "      <td>7.07</td>\n",
       "      <td>0.0</td>\n",
       "      <td>0.469</td>\n",
       "      <td>6.421</td>\n",
       "      <td>78.9</td>\n",
       "      <td>4.9671</td>\n",
       "      <td>2.0</td>\n",
       "      <td>242.0</td>\n",
       "      <td>17.8</td>\n",
       "      <td>396.90</td>\n",
       "      <td>9.14</td>\n",
       "      <td>21.6</td>\n",
       "    </tr>\n",
       "    <tr>\n",
       "      <th>2</th>\n",
       "      <td>0.0273</td>\n",
       "      <td>0.0</td>\n",
       "      <td>7.07</td>\n",
       "      <td>0.0</td>\n",
       "      <td>0.469</td>\n",
       "      <td>7.185</td>\n",
       "      <td>61.1</td>\n",
       "      <td>4.9671</td>\n",
       "      <td>2.0</td>\n",
       "      <td>242.0</td>\n",
       "      <td>17.8</td>\n",
       "      <td>392.83</td>\n",
       "      <td>4.03</td>\n",
       "      <td>34.7</td>\n",
       "    </tr>\n",
       "    <tr>\n",
       "      <th>3</th>\n",
       "      <td>0.0324</td>\n",
       "      <td>0.0</td>\n",
       "      <td>2.18</td>\n",
       "      <td>0.0</td>\n",
       "      <td>0.458</td>\n",
       "      <td>6.998</td>\n",
       "      <td>45.8</td>\n",
       "      <td>6.0622</td>\n",
       "      <td>3.0</td>\n",
       "      <td>222.0</td>\n",
       "      <td>18.7</td>\n",
       "      <td>394.63</td>\n",
       "      <td>2.94</td>\n",
       "      <td>33.4</td>\n",
       "    </tr>\n",
       "    <tr>\n",
       "      <th>4</th>\n",
       "      <td>0.0690</td>\n",
       "      <td>0.0</td>\n",
       "      <td>2.18</td>\n",
       "      <td>0.0</td>\n",
       "      <td>0.458</td>\n",
       "      <td>7.147</td>\n",
       "      <td>54.2</td>\n",
       "      <td>6.0622</td>\n",
       "      <td>3.0</td>\n",
       "      <td>222.0</td>\n",
       "      <td>18.7</td>\n",
       "      <td>396.90</td>\n",
       "      <td>5.33</td>\n",
       "      <td>36.2</td>\n",
       "    </tr>\n",
       "  </tbody>\n",
       "</table>\n",
       "</div>"
      ],
      "text/plain": [
       "     CRIM    ZN  INDUS  CHAS    NOX     RM   AGE     DIS  RAD    TAX  PTRATIO  \\\n",
       "0  0.0063  18.0   2.31   0.0  0.538  6.575  65.2  4.0900  1.0  296.0     15.3   \n",
       "1  0.0273   0.0   7.07   0.0  0.469  6.421  78.9  4.9671  2.0  242.0     17.8   \n",
       "2  0.0273   0.0   7.07   0.0  0.469  7.185  61.1  4.9671  2.0  242.0     17.8   \n",
       "3  0.0324   0.0   2.18   0.0  0.458  6.998  45.8  6.0622  3.0  222.0     18.7   \n",
       "4  0.0690   0.0   2.18   0.0  0.458  7.147  54.2  6.0622  3.0  222.0     18.7   \n",
       "\n",
       "        B  LSTAT  Price  \n",
       "0  396.90   4.98   24.0  \n",
       "1  396.90   9.14   21.6  \n",
       "2  392.83   4.03   34.7  \n",
       "3  394.63   2.94   33.4  \n",
       "4  396.90   5.33   36.2  "
      ]
     },
     "execution_count": 2,
     "metadata": {},
     "output_type": "execute_result"
    }
   ],
   "source": [
    "# Converting data from nd-array to pandas dataframe, re-naming column names & Price Column\n",
    "data = pd.DataFrame(boston.data) \n",
    "data.columns = boston.feature_names \n",
    "data['Price'] = boston.target\n",
    "\n",
    "# Print the first 5 rows of the dataset with four decimal places\n",
    "data.head(5).round(4) "
   ]
  },
  {
   "cell_type": "code",
   "execution_count": 3,
   "metadata": {},
   "outputs": [
    {
     "data": {
      "text/html": [
       "<div>\n",
       "<style scoped>\n",
       "    .dataframe tbody tr th:only-of-type {\n",
       "        vertical-align: middle;\n",
       "    }\n",
       "\n",
       "    .dataframe tbody tr th {\n",
       "        vertical-align: top;\n",
       "    }\n",
       "\n",
       "    .dataframe thead th {\n",
       "        text-align: right;\n",
       "    }\n",
       "</style>\n",
       "<table border=\"1\" class=\"dataframe\">\n",
       "  <thead>\n",
       "    <tr style=\"text-align: right;\">\n",
       "      <th></th>\n",
       "      <th>CRIM</th>\n",
       "      <th>ZN</th>\n",
       "      <th>INDUS</th>\n",
       "      <th>CHAS</th>\n",
       "      <th>NOX</th>\n",
       "      <th>RM</th>\n",
       "      <th>AGE</th>\n",
       "      <th>DIS</th>\n",
       "      <th>RAD</th>\n",
       "      <th>TAX</th>\n",
       "      <th>PTRATIO</th>\n",
       "      <th>B</th>\n",
       "      <th>LSTAT</th>\n",
       "      <th>Price</th>\n",
       "    </tr>\n",
       "  </thead>\n",
       "  <tbody>\n",
       "    <tr>\n",
       "      <th>count</th>\n",
       "      <td>506.0000</td>\n",
       "      <td>506.0000</td>\n",
       "      <td>506.0000</td>\n",
       "      <td>506.0000</td>\n",
       "      <td>506.0000</td>\n",
       "      <td>506.0000</td>\n",
       "      <td>506.0000</td>\n",
       "      <td>506.0000</td>\n",
       "      <td>506.0000</td>\n",
       "      <td>506.0000</td>\n",
       "      <td>506.0000</td>\n",
       "      <td>506.0000</td>\n",
       "      <td>506.0000</td>\n",
       "      <td>506.0000</td>\n",
       "    </tr>\n",
       "    <tr>\n",
       "      <th>mean</th>\n",
       "      <td>3.6135</td>\n",
       "      <td>11.3636</td>\n",
       "      <td>11.1368</td>\n",
       "      <td>0.0692</td>\n",
       "      <td>0.5547</td>\n",
       "      <td>6.2846</td>\n",
       "      <td>68.5749</td>\n",
       "      <td>3.7950</td>\n",
       "      <td>9.5494</td>\n",
       "      <td>408.2372</td>\n",
       "      <td>18.4555</td>\n",
       "      <td>356.6740</td>\n",
       "      <td>12.6531</td>\n",
       "      <td>22.5328</td>\n",
       "    </tr>\n",
       "    <tr>\n",
       "      <th>std</th>\n",
       "      <td>8.6015</td>\n",
       "      <td>23.3225</td>\n",
       "      <td>6.8604</td>\n",
       "      <td>0.2540</td>\n",
       "      <td>0.1159</td>\n",
       "      <td>0.7026</td>\n",
       "      <td>28.1489</td>\n",
       "      <td>2.1057</td>\n",
       "      <td>8.7073</td>\n",
       "      <td>168.5371</td>\n",
       "      <td>2.1649</td>\n",
       "      <td>91.2949</td>\n",
       "      <td>7.1411</td>\n",
       "      <td>9.1971</td>\n",
       "    </tr>\n",
       "    <tr>\n",
       "      <th>min</th>\n",
       "      <td>0.0063</td>\n",
       "      <td>0.0000</td>\n",
       "      <td>0.4600</td>\n",
       "      <td>0.0000</td>\n",
       "      <td>0.3850</td>\n",
       "      <td>3.5610</td>\n",
       "      <td>2.9000</td>\n",
       "      <td>1.1296</td>\n",
       "      <td>1.0000</td>\n",
       "      <td>187.0000</td>\n",
       "      <td>12.6000</td>\n",
       "      <td>0.3200</td>\n",
       "      <td>1.7300</td>\n",
       "      <td>5.0000</td>\n",
       "    </tr>\n",
       "    <tr>\n",
       "      <th>25%</th>\n",
       "      <td>0.0820</td>\n",
       "      <td>0.0000</td>\n",
       "      <td>5.1900</td>\n",
       "      <td>0.0000</td>\n",
       "      <td>0.4490</td>\n",
       "      <td>5.8855</td>\n",
       "      <td>45.0250</td>\n",
       "      <td>2.1002</td>\n",
       "      <td>4.0000</td>\n",
       "      <td>279.0000</td>\n",
       "      <td>17.4000</td>\n",
       "      <td>375.3775</td>\n",
       "      <td>6.9500</td>\n",
       "      <td>17.0250</td>\n",
       "    </tr>\n",
       "    <tr>\n",
       "      <th>50%</th>\n",
       "      <td>0.2565</td>\n",
       "      <td>0.0000</td>\n",
       "      <td>9.6900</td>\n",
       "      <td>0.0000</td>\n",
       "      <td>0.5380</td>\n",
       "      <td>6.2085</td>\n",
       "      <td>77.5000</td>\n",
       "      <td>3.2074</td>\n",
       "      <td>5.0000</td>\n",
       "      <td>330.0000</td>\n",
       "      <td>19.0500</td>\n",
       "      <td>391.4400</td>\n",
       "      <td>11.3600</td>\n",
       "      <td>21.2000</td>\n",
       "    </tr>\n",
       "    <tr>\n",
       "      <th>75%</th>\n",
       "      <td>3.6771</td>\n",
       "      <td>12.5000</td>\n",
       "      <td>18.1000</td>\n",
       "      <td>0.0000</td>\n",
       "      <td>0.6240</td>\n",
       "      <td>6.6235</td>\n",
       "      <td>94.0750</td>\n",
       "      <td>5.1884</td>\n",
       "      <td>24.0000</td>\n",
       "      <td>666.0000</td>\n",
       "      <td>20.2000</td>\n",
       "      <td>396.2250</td>\n",
       "      <td>16.9550</td>\n",
       "      <td>25.0000</td>\n",
       "    </tr>\n",
       "    <tr>\n",
       "      <th>max</th>\n",
       "      <td>88.9762</td>\n",
       "      <td>100.0000</td>\n",
       "      <td>27.7400</td>\n",
       "      <td>1.0000</td>\n",
       "      <td>0.8710</td>\n",
       "      <td>8.7800</td>\n",
       "      <td>100.0000</td>\n",
       "      <td>12.1265</td>\n",
       "      <td>24.0000</td>\n",
       "      <td>711.0000</td>\n",
       "      <td>22.0000</td>\n",
       "      <td>396.9000</td>\n",
       "      <td>37.9700</td>\n",
       "      <td>50.0000</td>\n",
       "    </tr>\n",
       "  </tbody>\n",
       "</table>\n",
       "</div>"
      ],
      "text/plain": [
       "           CRIM        ZN     INDUS      CHAS       NOX        RM       AGE  \\\n",
       "count  506.0000  506.0000  506.0000  506.0000  506.0000  506.0000  506.0000   \n",
       "mean     3.6135   11.3636   11.1368    0.0692    0.5547    6.2846   68.5749   \n",
       "std      8.6015   23.3225    6.8604    0.2540    0.1159    0.7026   28.1489   \n",
       "min      0.0063    0.0000    0.4600    0.0000    0.3850    3.5610    2.9000   \n",
       "25%      0.0820    0.0000    5.1900    0.0000    0.4490    5.8855   45.0250   \n",
       "50%      0.2565    0.0000    9.6900    0.0000    0.5380    6.2085   77.5000   \n",
       "75%      3.6771   12.5000   18.1000    0.0000    0.6240    6.6235   94.0750   \n",
       "max     88.9762  100.0000   27.7400    1.0000    0.8710    8.7800  100.0000   \n",
       "\n",
       "            DIS       RAD       TAX   PTRATIO         B     LSTAT     Price  \n",
       "count  506.0000  506.0000  506.0000  506.0000  506.0000  506.0000  506.0000  \n",
       "mean     3.7950    9.5494  408.2372   18.4555  356.6740   12.6531   22.5328  \n",
       "std      2.1057    8.7073  168.5371    2.1649   91.2949    7.1411    9.1971  \n",
       "min      1.1296    1.0000  187.0000   12.6000    0.3200    1.7300    5.0000  \n",
       "25%      2.1002    4.0000  279.0000   17.4000  375.3775    6.9500   17.0250  \n",
       "50%      3.2074    5.0000  330.0000   19.0500  391.4400   11.3600   21.2000  \n",
       "75%      5.1884   24.0000  666.0000   20.2000  396.2250   16.9550   25.0000  \n",
       "max     12.1265   24.0000  711.0000   22.0000  396.9000   37.9700   50.0000  "
      ]
     },
     "execution_count": 3,
     "metadata": {},
     "output_type": "execute_result"
    }
   ],
   "source": [
    "# Run a summary statistics rounding to four deciaml place\n",
    "data.describe().round(4)"
   ]
  },
  {
   "cell_type": "markdown",
   "metadata": {},
   "source": [
    "The above table provides percentile’s and other key statistics. The average house price in 1978 was \\\\$22,500 while min value was \\\\$5,000 with max value of \\\\$50,000. We can infer that the max number of rooms per dwelling is 8.78 while the min is 3.56 and mean of 6.2. Let's use this describe function to see some visualisation."
   ]
  },
  {
   "cell_type": "code",
   "execution_count": 4,
   "metadata": {},
   "outputs": [
    {
     "data": {
      "image/png": "[encoded data removed]",
      "text/plain": [
       "<Figure size 936x648 with 1 Axes>"
      ]
     },
     "metadata": {},
     "output_type": "display_data"
    }
   ],
   "source": [
    "# Use seaborn to create a plot\n",
    "# Use color codes to change color\n",
    "sns.set_color_codes()\n",
    "\n",
    "# Re-size the displot\n",
    "sns.set(rc={'figure.figsize':(13,9)})\n",
    "\n",
    "# Create a displot to show the 'Price'\n",
    "sns.distplot(boston.target, bins=30, vertical=True, color=\"g\")\n",
    "\n",
    "#Title\n",
    "plt.title(\"Boston House Prices\")       \n",
    "\n",
    "# X -axis description\n",
    "plt.xlabel(\"Frequency\")\n",
    "\n",
    "#Print plot\n",
    "plt.show()"
   ]
  },
  {
   "cell_type": "markdown",
   "metadata": {},
   "source": [
    "As we can see from the plot above, the majority of the prices are around the $20,000 mark with a few outliners in the min and max values."
   ]
  },
  {
   "cell_type": "code",
   "execution_count": 5,
   "metadata": {},
   "outputs": [
    {
     "name": "stdout",
     "output_type": "stream",
     "text": [
      "Skewness: 1.108098\n",
      "Kurtosis: 1.495197\n"
     ]
    }
   ],
   "source": [
    "#skewness and kurtosis\n",
    "print(\"Skewness: %f\" % data['Price'].skew())\n",
    "print(\"Kurtosis: %f\" % data['Price'].kurt())"
   ]
  },
  {
   "cell_type": "markdown",
   "metadata": {},
   "source": [
    "The main difference between skewness and kurtosis is that the former talks of the degree of symmetry, whereas the latter talks of the degree of peakedness, in the frequency distribution [17] As the price is above 1, the data is positively highly skewed. The krutosis is 1.495. This distribution has kurtosis statistic similar to that of the normal distribution. It means that the extreme values of the distribution are similar to that of a normal distribution characteristic."
   ]
  },
  {
   "cell_type": "code",
   "execution_count": 6,
   "metadata": {},
   "outputs": [
    {
     "data": {
      "image/png": "[encoded data removed]",
      "text/plain": [
       "<Figure size 1440x864 with 16 Axes>"
      ]
     },
     "metadata": {},
     "output_type": "display_data"
    }
   ],
   "source": [
    "# Create a histogram for \n",
    "data.hist(bins=30,figsize=(20,12),grid=True, color='g')\n",
    "\n",
    "# Title of Histogram\n",
    "plt.suptitle('Frequency of Dataset Attributes', y=1.05, size=16)\n",
    "plt.tight_layout()"
   ]
  },
  {
   "cell_type": "markdown",
   "metadata": {},
   "source": [
    "The above plots a histogram for all attributes and price. It shows the frequency of the values that appear in the dataset. For example, if we look at that attribute CHAS (Charles River dummy variable), we can see that there are two 0 and 1 with the number of properties over 400 not tracting near the river and under 50 tracting near the property."
   ]
  },
  {
   "cell_type": "markdown",
   "metadata": {},
   "source": [
    "## Part Two - Inferential Statistics"
   ]
  },
  {
   "cell_type": "markdown",
   "metadata": {},
   "source": [
    "Statistical inference is the process of using data analysis to deduce properties of an underlying probability distribution [20]. Inferential statistical analysis for example will test if there are signiﬁcant diﬀerences in median house prices between houses that are along the Charles river and those that aren’t deriving estimates."
   ]
  },
  {
   "cell_type": "markdown",
   "metadata": {},
   "source": [
    "We will create a correlation matrix. A correlation matrix is a table showing correlation coefficients between variables. Each cell in the table shows the correlation between two variables. A correlation matrix is used to summarize data usig the seaborn library [12]. The correlation coefficient ranges from -1 to 1. If the value is close to 1, this indicates there is a strong relationship between these two variables and the opposite can be said about if the value is closer to - 1. "
   ]
  },
  {
   "cell_type": "code",
   "execution_count": 7,
   "metadata": {},
   "outputs": [
    {
     "data": {
      "image/png": "[encoded data removed]",
      "text/plain": [
       "<Figure size 936x648 with 2 Axes>"
      ]
     },
     "metadata": {},
     "output_type": "display_data"
    }
   ],
   "source": [
    "# create a matrix to show the interaction between variables. Round data to 2 deciaml places\n",
    "correlation_matrix = data.corr().round(2)\n",
    "\n",
    "# Use annot to input data into square wtth color \"YlGnBu\"\n",
    "sns.heatmap(data=correlation_matrix, linewidths=4, annot=True, cmap=\"YlGnBu\")\n",
    "\n",
    "# Re-size the matrix\n",
    "sns.set(rc={'figure.figsize':(15,8)})"
   ]
  },
  {
   "cell_type": "markdown",
   "metadata": {},
   "source": [
    "From the correlation matrix, the number of room per dwelling 'RM' has the biggest positive impact on the price of a house at 0.70. Other's that have a positive impact price include 'ZN' (proportion of residential land zoned for lots over 25,000 sq.ft.) at 0.37, and 'B' (1000(Bk - 0.63)^2 where Bk is the proportion of blacks by town) at 0.33.If you look at the negative impact of the price in the matrix, 'LSTAT' (LSTAT - % lower status of the population) is at -0.74 while 'PTRATIO' is at -0.51."
   ]
  },
  {
   "cell_type": "markdown",
   "metadata": {},
   "source": [
    "#### T-Tests"
   ]
  },
  {
   "cell_type": "markdown",
   "metadata": {},
   "source": [
    "For part two, We will need to investigate the impact of the dummy variable, the Charles River has on the price of property. We will need to split the attribute 'CHAS' into two attributes near the river and one's that are not."
   ]
  },
  {
   "cell_type": "code",
   "execution_count": 12,
   "metadata": {},
   "outputs": [
    {
     "name": "stdout",
     "output_type": "stream",
     "text": [
      "The mean price of property located near the Charles River: 28.44\n"
     ]
    }
   ],
   "source": [
    "# Extract data for attribute near Charles river (NCR) and not near Charles River (NOCR)\n",
    "NCR = data[data['CHAS'] == 1]['Price']\n",
    "NOCR = data[data['CHAS'] == 0]['Price']\n",
    "\n",
    "# Calculate the mean for near the Charles river\n",
    "NCR.mean()\n",
    "print(\"The mean price of property located near the Charles River:\",NCR.mean())"
   ]
  },
  {
   "cell_type": "code",
   "execution_count": 13,
   "metadata": {},
   "outputs": [
    {
     "name": "stdout",
     "output_type": "stream",
     "text": [
      "The mean price of property not located near the Charles River: 22.093842887473482\n"
     ]
    }
   ],
   "source": [
    "# Calculate the mean for not near the Charles River\n",
    "NOCR.mean()\n",
    "print(\"The mean price of property not located near the Charles River:\",NOCR.mean())"
   ]
  },
  {
   "cell_type": "markdown",
   "metadata": {},
   "source": [
    "As we can see from the data, the mean price of properties located near the river is higher than the properties located not near the river. There is a difference of over $6,000."
   ]
  },
  {
   "cell_type": "code",
   "execution_count": 28,
   "metadata": {},
   "outputs": [
    {
     "data": {
      "text/plain": [
       "Ttest_indResult(statistic=3.996437466090509, pvalue=7.390623170519905e-05)"
      ]
     },
     "execution_count": 28,
     "metadata": {},
     "output_type": "execute_result"
    }
   ],
   "source": [
    "# Run an independent t-test \n",
    "stats.ttest_ind(NCR,NOCR)"
   ]
  },
  {
   "cell_type": "code",
   "execution_count": 29,
   "metadata": {},
   "outputs": [
    {
     "data": {
      "text/plain": [
       "(3.9964374660905095, 7.390623170519883e-05, 504.0)"
      ]
     },
     "execution_count": 29,
     "metadata": {},
     "output_type": "execute_result"
    }
   ],
   "source": [
    "import statsmodels.stats.weightstats as ws\n",
    "ws.ttest_ind(NCR, NOCR)"
   ]
  },
  {
   "cell_type": "markdown",
   "metadata": {},
   "source": [
    "Using both the independent stats.ttest and the weighted stats ttest, our null hypothesis is testing that houses located near and far from the Charles River that both groups are statistically significantly similar. Here, the p-value is less than 0.05, this indicates strong evidence against the null hypothesis, so the null hypothesis is rejected."
   ]
  },
  {
   "cell_type": "code",
   "execution_count": 37,
   "metadata": {},
   "outputs": [
    {
     "data": {
      "text/plain": [
       "<matplotlib.axes._subplots.AxesSubplot at 0x2517bfc96a0>"
      ]
     },
     "execution_count": 37,
     "metadata": {},
     "output_type": "execute_result"
    },
    {
     "data": {
      "image/png": "[encoded data removed]",
      "text/plain": [
       "<Figure size 432x288 with 1 Axes>"
      ]
     },
     "metadata": {
      "needs_background": "light"
     },
     "output_type": "display_data"
    }
   ],
   "source": [
    "# Title\n",
    "plt.title(\"Boston House Prices Located near the Charles River\")       \n",
    "\n",
    "#Print plot\n",
    "sns.distplot(NCR)"
   ]
  },
  {
   "cell_type": "markdown",
   "metadata": {},
   "source": [
    "We can see that the majority of the houses located near the Charles River is over $20k. We must take into consideration that our sample sides is small with only 35 properties located near the river compared with 471 not located near the river."
   ]
  },
  {
   "cell_type": "code",
   "execution_count": 38,
   "metadata": {
    "scrolled": true
   },
   "outputs": [
    {
     "data": {
      "text/plain": [
       "<matplotlib.axes._subplots.AxesSubplot at 0x2517cedd160>"
      ]
     },
     "execution_count": 38,
     "metadata": {},
     "output_type": "execute_result"
    },
    {
     "data": {
      "image/png": "[encoded data removed]",
      "text/plain": [
       "<Figure size 432x288 with 1 Axes>"
      ]
     },
     "metadata": {
      "needs_background": "light"
     },
     "output_type": "display_data"
    }
   ],
   "source": [
    "# Title\n",
    "plt.title(\"Boston House Prices NOT Located near the Charles River\")       \n",
    "\n",
    "#Print plot\n",
    "sns.distplot(NOCR)"
   ]
  },
  {
   "cell_type": "markdown",
   "metadata": {},
   "source": [
    "We can see that the houses not located near the Charles River are spread evenly between \\\\$15k and $25k like our full dataset. Lets plot these two sets of data into one plot by created a new dataframe."
   ]
  },
  {
   "cell_type": "code",
   "execution_count": 88,
   "metadata": {},
   "outputs": [
    {
     "data": {
      "text/html": [
       "<div>\n",
       "<style scoped>\n",
       "    .dataframe tbody tr th:only-of-type {\n",
       "        vertical-align: middle;\n",
       "    }\n",
       "\n",
       "    .dataframe tbody tr th {\n",
       "        vertical-align: top;\n",
       "    }\n",
       "\n",
       "    .dataframe thead th {\n",
       "        text-align: right;\n",
       "    }\n",
       "</style>\n",
       "<table border=\"1\" class=\"dataframe\">\n",
       "  <thead>\n",
       "    <tr style=\"text-align: right;\">\n",
       "      <th>col_0</th>\n",
       "      <th>Price</th>\n",
       "    </tr>\n",
       "    <tr>\n",
       "      <th>CHAS</th>\n",
       "      <th></th>\n",
       "    </tr>\n",
       "  </thead>\n",
       "  <tbody>\n",
       "    <tr>\n",
       "      <th>0.0</th>\n",
       "      <td>471</td>\n",
       "    </tr>\n",
       "    <tr>\n",
       "      <th>1.0</th>\n",
       "      <td>35</td>\n",
       "    </tr>\n",
       "  </tbody>\n",
       "</table>\n",
       "</div>"
      ],
      "text/plain": [
       "col_0  Price\n",
       "CHAS        \n",
       "0.0      471\n",
       "1.0       35"
      ]
     },
     "execution_count": 88,
     "metadata": {},
     "output_type": "execute_result"
    }
   ],
   "source": [
    "river_table = pd.crosstab(index=data['CHAS'], columns=['Price'])\n",
    "river_table"
   ]
  },
  {
   "cell_type": "code",
   "execution_count": 64,
   "metadata": {},
   "outputs": [],
   "source": [
    "# Create a new variable for River Charles\n",
    "River = ['Near'] * 35 + ['Far'] * 471\n",
    "\n",
    "# Concat our two variables NCR & NOCR\n",
    "Price = np.concatenate([NCR,NOCR])\n",
    "\n",
    "# Create a new dataframe\n",
    "df = pd.DataFrame({'River': River, 'Price': Price})"
   ]
  },
  {
   "cell_type": "code",
   "execution_count": 73,
   "metadata": {},
   "outputs": [
    {
     "data": {
      "text/plain": [
       "0     13.4\n",
       "1     15.3\n",
       "2     17.0\n",
       "3     15.6\n",
       "4     27.0\n",
       "5     50.0\n",
       "6     50.0\n",
       "7     24.4\n",
       "8     20.0\n",
       "9     21.7\n",
       "10    19.3\n",
       "11    22.4\n",
       "12    23.3\n",
       "13    21.5\n",
       "14    23.0\n",
       "15    26.7\n",
       "16    21.7\n",
       "17    27.5\n",
       "18    29.0\n",
       "19    25.1\n",
       "20    20.7\n",
       "21    35.2\n",
       "22    32.4\n",
       "23    33.2\n",
       "24    33.1\n",
       "25    46.0\n",
       "26    50.0\n",
       "27    17.8\n",
       "28    21.7\n",
       "29    22.7\n",
       "30    16.8\n",
       "31    21.9\n",
       "32    50.0\n",
       "33    50.0\n",
       "34    50.0\n",
       "Name: Price, dtype: float64"
      ]
     },
     "execution_count": 73,
     "metadata": {},
     "output_type": "execute_result"
    }
   ],
   "source": [
    "df[df['River'] == 'Near']['Price']"
   ]
  },
  {
   "cell_type": "code",
   "execution_count": 60,
   "metadata": {},
   "outputs": [
    {
     "data": {
      "text/plain": [
       "Series([], Name: Price, dtype: float64)"
      ]
     },
     "execution_count": 60,
     "metadata": {},
     "output_type": "execute_result"
    }
   ],
   "source": [
    "df[df['River'] == 'Far']['Price']"
   ]
  },
  {
   "cell_type": "code",
   "execution_count": 74,
   "metadata": {},
   "outputs": [
    {
     "data": {
      "text/plain": [
       "(3.9964374660905095, 7.390623170519883e-05, 504.0)"
      ]
     },
     "execution_count": 74,
     "metadata": {},
     "output_type": "execute_result"
    }
   ],
   "source": [
    "ws.ttest_ind(df[df['River'] == 'Near']['Price'],df[df['River'] == 'Far']['Price'])"
   ]
  },
  {
   "cell_type": "markdown",
   "metadata": {},
   "source": [
    "After breaking up the data, we can see that the original probability value remains the same and indicates that these are not statistically similarstatistics."
   ]
  },
  {
   "cell_type": "code",
   "execution_count": 86,
   "metadata": {},
   "outputs": [
    {
     "data": {
      "text/plain": [
       "<seaborn.axisgrid.FacetGrid at 0x2517c013e48>"
      ]
     },
     "execution_count": 86,
     "metadata": {},
     "output_type": "execute_result"
    },
    {
     "data": {
      "image/png": "[encoded data removed]",
      "text/plain": [
       "<Figure size 360x360 with 1 Axes>"
      ]
     },
     "metadata": {},
     "output_type": "display_data"
    }
   ],
   "source": [
    "# Display catplot\n",
    "sns.catplot(x='River', y='Price', data=df, kind=\"box\")"
   ]
  },
  {
   "cell_type": "markdown",
   "metadata": {},
   "source": [
    "Finally we use a catplot to show the distribution of the price between the two variables with the shape showing the mean price with a few outliners."
   ]
  },
  {
   "cell_type": "markdown",
   "metadata": {},
   "source": [
    " # https://www.datavedas.com/inferential-statistics-in-python/"
   ]
  },
  {
   "cell_type": "markdown",
   "metadata": {},
   "source": [
    "#### ANOVA with stat models"
   ]
  },
  {
   "cell_type": "markdown",
   "metadata": {},
   "source": [
    "Next separate data into training and testing sets. Analysis Services randomly samples the data to help ensure that the testing and training sets are similar. By using similar data for training and testing, you can minimize the effects of data discrepancies and better understand the characteristics of the model.\n",
    "\n",
    "After a model has been processed by using the training set, you test the model by making predictions against the test set. Because the data in the testing set already contains known values for the attribute that you want to predict, it is easy to determine whether the model's guesses are correct [15].\n",
    "\n",
    "Before splitting the data to train-test dataset, we would need to split the dataset into two attributes - target value and predictor value.[16]\n"
   ]
  },
  {
   "cell_type": "code",
   "execution_count": 119,
   "metadata": {},
   "outputs": [
    {
     "name": "stdout",
     "output_type": "stream",
     "text": [
      "X Train : (339, 2)\n",
      "X Test  : (167, 2)\n",
      "Y Train : (339,)\n",
      "X Test  : (167,)\n"
     ]
    }
   ],
   "source": [
    "# Two variables\n",
    "X = pd.DataFrame(np.c_[data['LSTAT'], data['RM']], columns = ['LSTAT','RM'])\n",
    "Y = data['Price']\n",
    "\n",
    "# Split dataset into train and test. Test portion 33% test size\n",
    "X_train, X_test, Y_train, Y_test = train_test_split(X, Y, test_size = 0.33, random_state = 5)\n",
    "print(\"X Train :\",X_train.shape)\n",
    "print(\"X Test  :\",X_test.shape)\n",
    "print(\"Y Train :\",Y_train.shape)\n",
    "print(\"X Test  :\",Y_test.shape)"
   ]
  },
  {
   "cell_type": "markdown",
   "metadata": {},
   "source": [
    "The train spilt has 339 while test split is 167. This gives us a total of 506"
   ]
  },
  {
   "cell_type": "code",
   "execution_count": 120,
   "metadata": {},
   "outputs": [
    {
     "data": {
      "text/plain": [
       "Text(0.5, 1.0, 'Prices vs Predicted prices: $Y_i$ vs $\\\\hat{Y}_i$')"
      ]
     },
     "execution_count": 120,
     "metadata": {},
     "output_type": "execute_result"
    },
    {
     "data": {
      "image/png": "[encoded data removed]",
      "text/plain": [
       "<Figure size 432x288 with 1 Axes>"
      ]
     },
     "metadata": {
      "needs_background": "light"
     },
     "output_type": "display_data"
    }
   ],
   "source": [
    "from sklearn.linear_model import LinearRegression\n",
    "lm = LinearRegression()\n",
    "lm.fit(X_train, Y_train)\n",
    "\n",
    "Y_pred = lm.predict(X_test)\n",
    "\n",
    "plt.scatter(Y_test, Y_pred)\n",
    "plt.xlabel(\"Prices: $Y_i$\")\n",
    "plt.ylabel(\"Predicted prices: $\\hat{Y}_i$\")\n",
    "plt.title(\"Prices vs Predicted prices: $Y_i$ vs $\\hat{Y}_i$\")"
   ]
  },
  {
   "cell_type": "markdown",
   "metadata": {},
   "source": [
    "Mean Square Error\n",
    "To check the level of error of a model, we can Mean Squared Error. It will check the difference between actual value and the predicted value. For the full theory.[15]"
   ]
  },
  {
   "cell_type": "code",
   "execution_count": 121,
   "metadata": {},
   "outputs": [
    {
     "name": "stdout",
     "output_type": "stream",
     "text": [
      "34.71949123964307\n"
     ]
    }
   ],
   "source": [
    "mse = mean_squared_error(Y_test, Y_pred)\n",
    "print(mse)"
   ]
  },
  {
   "cell_type": "markdown",
   "metadata": {},
   "source": [
    "That means that the model isn’t a really great linear model. But, as a start, it is a good way to go. I actually still don’t understand how to know the value of acceptable mean squared error.[15]"
   ]
  },
  {
   "cell_type": "markdown",
   "metadata": {},
   "source": [
    "Split the data into training and testing subsets. the data is also shuffled into a random order when creating the training and testing subsets to remove any bias in the ordering of the dataset."
   ]
  },
  {
   "cell_type": "code",
   "execution_count": 122,
   "metadata": {},
   "outputs": [
    {
     "name": "stdout",
     "output_type": "stream",
     "text": [
      "The model performance for training set\n",
      "--------------------------------------\n",
      "RMSE is 5.336540235231381\n",
      "R2 score is 0.6432412744361098\n",
      "\n",
      "\n",
      "The model performance for testing set\n",
      "--------------------------------------\n",
      "RMSE is 5.892324773775039\n",
      "R2 score is 0.6296344935050338\n"
     ]
    }
   ],
   "source": [
    "# https://towardsdatascience.com/linear-regression-on-boston-housing-dataset-f409b7e4a155\n",
    "# We will evaluate our model using RMSE and R2-score\n",
    "# model evaluation for training set\n",
    "y_train_predict = lm.predict(X_train)\n",
    "rmse = (np.sqrt(mean_squared_error(Y_train, y_train_predict)))\n",
    "r2 = r2_score(Y_train, y_train_predict)\n",
    "\n",
    "print(\"The model performance for training set\")\n",
    "print(\"--------------------------------------\")\n",
    "print('RMSE is {}'.format(rmse))\n",
    "print('R2 score is {}'.format(r2))\n",
    "print(\"\\n\")\n",
    "\n",
    "# model evaluation for testing set\n",
    "y_test_predict = lm.predict(X_test)\n",
    "rmse = (np.sqrt(mean_squared_error(Y_test, y_test_predict)))\n",
    "r2 = r2_score(Y_test, y_test_predict)\n",
    "\n",
    "print(\"The model performance for testing set\")\n",
    "print(\"--------------------------------------\")\n",
    "print('RMSE is {}'.format(rmse))\n",
    "print('R2 score is {}'.format(r2))"
   ]
  },
  {
   "cell_type": "code",
   "execution_count": null,
   "metadata": {},
   "outputs": [],
   "source": []
  },
  {
   "cell_type": "code",
   "execution_count": null,
   "metadata": {},
   "outputs": [],
   "source": []
  },
  {
   "cell_type": "code",
   "execution_count": null,
   "metadata": {},
   "outputs": [],
   "source": []
  },
  {
   "cell_type": "code",
   "execution_count": null,
   "metadata": {},
   "outputs": [],
   "source": []
  },
  {
   "cell_type": "code",
   "execution_count": null,
   "metadata": {},
   "outputs": [],
   "source": []
  },
  {
   "cell_type": "code",
   "execution_count": null,
   "metadata": {},
   "outputs": [],
   "source": []
  },
  {
   "cell_type": "code",
   "execution_count": null,
   "metadata": {},
   "outputs": [],
   "source": []
  },
  {
   "cell_type": "markdown",
   "metadata": {},
   "source": [
    "Let's compare a number of variables with price. We look at CHAS,RM & PTRATIO"
   ]
  },
  {
   "cell_type": "markdown",
   "metadata": {},
   "source": [
    "Let's show these correlations for 'RM' and 'LSTAT' for 'Price' by using linear regression. Linear regression attempts to model the relationship between two variables by fitting a linear equation to observed data. One variable is considered to be an explanatory variable ('RM', 'LSTAT'), and the other is considered to be a dependent ('Price') variable [13]. A dependent variable is a particular quantity that we ask a question about in our study. An explanatory variable is any factor that can influence the dependent variable. While there can be many explanatory variables, we will primarily concern ourselves with a single explanatory variable [14].A scatterplot can be a helpful tool in determining the strength of the relationship between two variables.[13]"
   ]
  },
  {
   "cell_type": "code",
   "execution_count": null,
   "metadata": {},
   "outputs": [],
   "source": [
    "# Re-size the displot\n",
    "sns.set(rc={'figure.figsize':(10,5)})\n",
    "\n",
    "# Create a scatter plot comparing Price and CHAS\n",
    "plt.scatter(data.Price,data.CHAS)\n",
    "\n",
    "#Title\n",
    "plt.title(\"Prices vs Location near the Charles River\")       \n",
    "\n",
    "# X and Y -axis description\n",
    "plt.xlabel(\"Price\")\n",
    "plt.ylabel(\"CHAS\")\n",
    "\n",
    "#Print plot\n",
    "plt.show()"
   ]
  },
  {
   "cell_type": "markdown",
   "metadata": {},
   "source": [
    "The location near the Charles River does not have a massive impact of price of a house in Boston in 1978."
   ]
  },
  {
   "cell_type": "code",
   "execution_count": null,
   "metadata": {},
   "outputs": [],
   "source": [
    "# Re-size the displot\n",
    "sns.set(rc={'figure.figsize':(10,5)})\n",
    "\n",
    "# Create a scatter plot comparing Price and CHAS\n",
    "plt.scatter(data.Price,data.RM)\n",
    "\n",
    "#Title\n",
    "plt.title(\"Prices vs Rooms per dwelling\")       \n",
    "\n",
    "# X and Y -axis description\n",
    "plt.xlabel(\"Price\")\n",
    "plt.ylabel(\"Rooms per dwelling\")\n",
    "\n",
    "#Print plot\n",
    "plt.show()"
   ]
  },
  {
   "cell_type": "markdown",
   "metadata": {},
   "source": [
    "As we can see there is a correlation between the number of rooms increases the price of the property."
   ]
  },
  {
   "cell_type": "code",
   "execution_count": null,
   "metadata": {},
   "outputs": [],
   "source": [
    "# Re-size the displot\n",
    "sns.set(rc={'figure.figsize':(10,5)})\n",
    "\n",
    "# Create a scatter plot comparing Price and CHAS\n",
    "plt.scatter(data.Price,data.PTRATIO)\n",
    "\n",
    "#Title\n",
    "plt.title(\"Prices vs Pupil Teacher Ratio\")       \n",
    "\n",
    "# X and Y -axis description\n",
    "plt.xlabel(\"Price\")\n",
    "plt.ylabel(\"Pupil Teacher Ratio\")\n",
    "\n",
    "#Print plot\n",
    "plt.show()"
   ]
  },
  {
   "cell_type": "markdown",
   "metadata": {},
   "source": [
    "Like the RM varaible, there is also a correlation between price and PTRatio but not as much as RM."
   ]
  },
  {
   "cell_type": "code",
   "execution_count": null,
   "metadata": {},
   "outputs": [],
   "source": [
    "# Re-size the displot\n",
    "sns.set(rc={'figure.figsize':(10,5)})\n",
    "\n",
    "# Create a scatter plot comparing Price and CHAS\n",
    "plt.scatter(data.Price,data.LSTAT)\n",
    "\n",
    "#Title\n",
    "plt.title(\"Prices vs Lower Middle Class Families\")       \n",
    "\n",
    "# X and Y -axis description\n",
    "plt.xlabel(\"Price\")\n",
    "plt.ylabel(\"Lower Middle Class Families\")\n",
    "\n",
    "#Print plot\n",
    "plt.show()"
   ]
  },
  {
   "cell_type": "markdown",
   "metadata": {},
   "source": [
    "There is a negative correlation between Price and LSTAT, as the price decreases with a lower percentage of lower class population."
   ]
  },
  {
   "cell_type": "code",
   "execution_count": null,
   "metadata": {},
   "outputs": [],
   "source": [
    "# Size the plot \n",
    "plt.figure(figsize=(20, 5))\n",
    "\n",
    "# Plot for explanatory and dependent variables\n",
    "explanatory = ['LSTAT', 'RM']\n",
    "dependent = data['Price']\n",
    "\n",
    "\n",
    "# Loop over explanatory variables \n",
    "for i, col in enumerate(explanatory):\n",
    "    plt.subplot(1, len(explanatory) , i+1)\n",
    "    x = data[col]\n",
    "    y = dependent\n",
    "    \n",
    "    # Do regression on the x and y arrays using numpy.\n",
    "    m, c = np.polyfit(x, y, 1)\n",
    "    \n",
    "    # Plot x and y and the regression line in red.\n",
    "    plt.plot(x, y, 'k.')\n",
    "    plt.plot(x, m * x + c, 'r-', linewidth=3)\n",
    "    \n",
    "    # Title and x and y names\n",
    "    plt.title(col)\n",
    "    plt.xlabel(col)\n",
    "    plt.ylabel('Price')  "
   ]
  },
  {
   "cell_type": "markdown",
   "metadata": {},
   "source": [
    "From the plots, we can see that the prices tend to decrease with more lower class workers (LSTAT - % lower status of the population) as lower class workers would have less money to spend on a home. While prices tend to rise with the increase in rooms in each dwelling (RM) as the more rooms in a house would increase the square footage making larger than one's with less rooms. The same can be said about tax income, if people earn less money it is likely that their home are worth less. \n",
    "\n",
    "We created a regression line in our scatterplot which is simply a single line that best fits the data (in terms of having the smallest overall distance from the line to the points). The formula for the best-fitting line (or regression line) is y = mx + c, where m is the slope of the line and c is the y-intercept [14]. "
   ]
  },
  {
   "cell_type": "markdown",
   "metadata": {},
   "source": [
    "## Part 3 - Neural Network"
   ]
  },
  {
   "cell_type": "code",
   "execution_count": null,
   "metadata": {},
   "outputs": [],
   "source": [
    "# http://www.neural.cz/dataset-exploration-boston-house-pricing.html"
   ]
  },
  {
   "cell_type": "code",
   "execution_count": 73,
   "metadata": {},
   "outputs": [],
   "source": [
    "# https://www.kaggle.com/hugosjoberg/house-prices-prediction-using-keras\n",
    "def create_model():\n",
    "    # create model\n",
    "    model = Sequential()\n",
    "    model.add(Dense(10, input_dim=X_train.shape[1], activation='relu'))\n",
    "    model.add(Dense(30, activation='relu'))\n",
    "    model.add(Dense(40, activation='relu'))\n",
    "    model.add(Dense(1))\n",
    "    # Compile model\n",
    "    model.compile(optimizer ='adam', loss = 'mean_squared_error', \n",
    "              metrics =[metrics.mae])\n",
    "    return model"
   ]
  },
  {
   "cell_type": "code",
   "execution_count": 74,
   "metadata": {},
   "outputs": [
    {
     "name": "stdout",
     "output_type": "stream",
     "text": [
      "WARNING:tensorflow:From C:\\Users\\jad25\\Anaconda4\\lib\\site-packages\\tensorflow\\python\\ops\\resource_variable_ops.py:435: colocate_with (from tensorflow.python.framework.ops) is deprecated and will be removed in a future version.\n",
      "Instructions for updating:\n",
      "Colocations handled automatically by placer.\n",
      "Model: \"sequential_2\"\n",
      "_________________________________________________________________\n",
      "Layer (type)                 Output Shape              Param #   \n",
      "=================================================================\n",
      "dense_1 (Dense)              (None, 10)                30        \n",
      "_________________________________________________________________\n",
      "dense_2 (Dense)              (None, 30)                330       \n",
      "_________________________________________________________________\n",
      "dense_3 (Dense)              (None, 40)                1240      \n",
      "_________________________________________________________________\n",
      "dense_4 (Dense)              (None, 1)                 41        \n",
      "=================================================================\n",
      "Total params: 1,641\n",
      "Trainable params: 1,641\n",
      "Non-trainable params: 0\n",
      "_________________________________________________________________\n"
     ]
    }
   ],
   "source": [
    "model = create_model()\n",
    "model.summary()"
   ]
  },
  {
   "cell_type": "code",
   "execution_count": 75,
   "metadata": {},
   "outputs": [
    {
     "name": "stdout",
     "output_type": "stream",
     "text": [
      "WARNING:tensorflow:From C:\\Users\\jad25\\Anaconda4\\lib\\site-packages\\tensorflow\\python\\ops\\math_ops.py:3066: to_int32 (from tensorflow.python.ops.math_ops) is deprecated and will be removed in a future version.\n",
      "Instructions for updating:\n",
      "Use tf.cast instead.\n",
      "Train on 339 samples, validate on 167 samples\n",
      "Epoch 1/339\n",
      "339/339 [==============================] - 1s 2ms/step - loss: 361.8283 - mean_absolute_error: 17.5928 - val_loss: 263.0469 - val_mean_absolute_error: 14.8686\n",
      "Epoch 2/339\n",
      "339/339 [==============================] - 0s 188us/step - loss: 185.5096 - mean_absolute_error: 12.4975 - val_loss: 101.7050 - val_mean_absolute_error: 9.2079\n",
      "Epoch 3/339\n",
      "339/339 [==============================] - 0s 88us/step - loss: 54.9001 - mean_absolute_error: 6.6316 - val_loss: 13.9317 - val_mean_absolute_error: 3.3430\n",
      "Epoch 4/339\n",
      "339/339 [==============================] - 0s 76us/step - loss: 3.9736 - mean_absolute_error: 1.4387 - val_loss: 1.0640 - val_mean_absolute_error: 0.9828\n",
      "Epoch 5/339\n",
      "339/339 [==============================] - 0s 68us/step - loss: 2.9210 - mean_absolute_error: 1.6065 - val_loss: 3.1062 - val_mean_absolute_error: 1.6787\n",
      "Epoch 6/339\n",
      "339/339 [==============================] - 0s 62us/step - loss: 1.6994 - mean_absolute_error: 1.2013 - val_loss: 0.2563 - val_mean_absolute_error: 0.5050\n",
      "Epoch 7/339\n",
      "339/339 [==============================] - 0s 64us/step - loss: 0.1398 - mean_absolute_error: 0.2934 - val_loss: 0.3412 - val_mean_absolute_error: 0.3782\n",
      "Epoch 8/339\n",
      "339/339 [==============================] - 0s 62us/step - loss: 0.2510 - mean_absolute_error: 0.3584 - val_loss: 0.2428 - val_mean_absolute_error: 0.2936\n",
      "Epoch 9/339\n",
      "339/339 [==============================] - 0s 71us/step - loss: 0.1073 - mean_absolute_error: 0.1964 - val_loss: 0.1139 - val_mean_absolute_error: 0.2438\n",
      "Epoch 10/339\n",
      "339/339 [==============================] - 0s 59us/step - loss: 0.0865 - mean_absolute_error: 0.2440 - val_loss: 0.1152 - val_mean_absolute_error: 0.2767\n",
      "Epoch 11/339\n",
      "339/339 [==============================] - 0s 88us/step - loss: 0.0822 - mean_absolute_error: 0.2293 - val_loss: 0.1129 - val_mean_absolute_error: 0.2307\n",
      "Epoch 12/339\n",
      "339/339 [==============================] - 0s 56us/step - loss: 0.0760 - mean_absolute_error: 0.1886 - val_loss: 0.1176 - val_mean_absolute_error: 0.2152\n",
      "Epoch 13/339\n",
      "339/339 [==============================] - 0s 53us/step - loss: 0.0764 - mean_absolute_error: 0.1822 - val_loss: 0.1138 - val_mean_absolute_error: 0.2181\n",
      "Epoch 14/339\n",
      "339/339 [==============================] - 0s 61us/step - loss: 0.0743 - mean_absolute_error: 0.1896 - val_loss: 0.1094 - val_mean_absolute_error: 0.2253\n",
      "Epoch 15/339\n",
      "339/339 [==============================] - 0s 74us/step - loss: 0.0741 - mean_absolute_error: 0.1979 - val_loss: 0.1075 - val_mean_absolute_error: 0.2260\n",
      "Epoch 16/339\n",
      "339/339 [==============================] - 0s 62us/step - loss: 0.0726 - mean_absolute_error: 0.1900 - val_loss: 0.1091 - val_mean_absolute_error: 0.2154\n",
      "Epoch 17/339\n",
      "339/339 [==============================] - 0s 68us/step - loss: 0.0720 - mean_absolute_error: 0.1820 - val_loss: 0.1079 - val_mean_absolute_error: 0.2137\n",
      "Epoch 18/339\n",
      "339/339 [==============================] - 0s 60us/step - loss: 0.0709 - mean_absolute_error: 0.1854 - val_loss: 0.1035 - val_mean_absolute_error: 0.2210\n",
      "Epoch 19/339\n",
      "339/339 [==============================] - 0s 59us/step - loss: 0.0698 - mean_absolute_error: 0.1889 - val_loss: 0.1030 - val_mean_absolute_error: 0.2160\n",
      "Epoch 20/339\n",
      "339/339 [==============================] - 0s 62us/step - loss: 0.0687 - mean_absolute_error: 0.1843 - val_loss: 0.1026 - val_mean_absolute_error: 0.2113\n",
      "Epoch 21/339\n",
      "339/339 [==============================] - 0s 59us/step - loss: 0.0677 - mean_absolute_error: 0.1807 - val_loss: 0.1006 - val_mean_absolute_error: 0.2110\n",
      "Epoch 22/339\n",
      "339/339 [==============================] - 0s 70us/step - loss: 0.0666 - mean_absolute_error: 0.1819 - val_loss: 0.0984 - val_mean_absolute_error: 0.2118\n",
      "Epoch 23/339\n",
      "339/339 [==============================] - 0s 62us/step - loss: 0.0659 - mean_absolute_error: 0.1851 - val_loss: 0.0965 - val_mean_absolute_error: 0.2111\n",
      "Epoch 24/339\n",
      "339/339 [==============================] - 0s 62us/step - loss: 0.0646 - mean_absolute_error: 0.1773 - val_loss: 0.0967 - val_mean_absolute_error: 0.2043\n",
      "Epoch 25/339\n",
      "339/339 [==============================] - 0s 59us/step - loss: 0.0638 - mean_absolute_error: 0.1756 - val_loss: 0.0942 - val_mean_absolute_error: 0.2055\n",
      "Epoch 26/339\n",
      "339/339 [==============================] - 0s 59us/step - loss: 0.0626 - mean_absolute_error: 0.1757 - val_loss: 0.0927 - val_mean_absolute_error: 0.2036\n",
      "Epoch 27/339\n",
      "339/339 [==============================] - 0s 53us/step - loss: 0.0617 - mean_absolute_error: 0.1718 - val_loss: 0.0921 - val_mean_absolute_error: 0.1999\n",
      "Epoch 28/339\n",
      "339/339 [==============================] - 0s 56us/step - loss: 0.0612 - mean_absolute_error: 0.1783 - val_loss: 0.0878 - val_mean_absolute_error: 0.2083\n",
      "Epoch 29/339\n",
      "339/339 [==============================] - 0s 64us/step - loss: 0.0601 - mean_absolute_error: 0.1735 - val_loss: 0.0887 - val_mean_absolute_error: 0.1971\n",
      "Epoch 30/339\n",
      "339/339 [==============================] - 0s 68us/step - loss: 0.0589 - mean_absolute_error: 0.1698 - val_loss: 0.0860 - val_mean_absolute_error: 0.1990\n",
      "Epoch 31/339\n",
      "339/339 [==============================] - 0s 62us/step - loss: 0.0576 - mean_absolute_error: 0.1706 - val_loss: 0.0857 - val_mean_absolute_error: 0.1934\n",
      "Epoch 32/339\n",
      "339/339 [==============================] - 0s 65us/step - loss: 0.0562 - mean_absolute_error: 0.1669 - val_loss: 0.0825 - val_mean_absolute_error: 0.1967\n",
      "Epoch 33/339\n",
      "339/339 [==============================] - 0s 59us/step - loss: 0.0555 - mean_absolute_error: 0.1725 - val_loss: 0.0809 - val_mean_absolute_error: 0.1948\n",
      "Epoch 34/339\n",
      "339/339 [==============================] - 0s 59us/step - loss: 0.0540 - mean_absolute_error: 0.1626 - val_loss: 0.0815 - val_mean_absolute_error: 0.1868\n",
      "Epoch 35/339\n",
      "339/339 [==============================] - 0s 54us/step - loss: 0.0532 - mean_absolute_error: 0.1606 - val_loss: 0.0785 - val_mean_absolute_error: 0.1888\n",
      "Epoch 36/339\n",
      "339/339 [==============================] - 0s 71us/step - loss: 0.0521 - mean_absolute_error: 0.1614 - val_loss: 0.0765 - val_mean_absolute_error: 0.1889\n",
      "Epoch 37/339\n",
      "339/339 [==============================] - 0s 56us/step - loss: 0.0512 - mean_absolute_error: 0.1638 - val_loss: 0.0753 - val_mean_absolute_error: 0.1858\n",
      "Epoch 38/339\n",
      "339/339 [==============================] - 0s 52us/step - loss: 0.0501 - mean_absolute_error: 0.1574 - val_loss: 0.0740 - val_mean_absolute_error: 0.1832\n",
      "Epoch 39/339\n",
      "339/339 [==============================] - 0s 52us/step - loss: 0.0490 - mean_absolute_error: 0.1587 - val_loss: 0.0722 - val_mean_absolute_error: 0.1826\n",
      "Epoch 40/339\n",
      "339/339 [==============================] - 0s 65us/step - loss: 0.0479 - mean_absolute_error: 0.1542 - val_loss: 0.0714 - val_mean_absolute_error: 0.1786\n",
      "Epoch 41/339\n",
      "339/339 [==============================] - 0s 62us/step - loss: 0.0473 - mean_absolute_error: 0.1590 - val_loss: 0.0683 - val_mean_absolute_error: 0.1829\n",
      "Epoch 42/339\n",
      "339/339 [==============================] - 0s 59us/step - loss: 0.0458 - mean_absolute_error: 0.1521 - val_loss: 0.0691 - val_mean_absolute_error: 0.1732\n",
      "Epoch 43/339\n",
      "339/339 [==============================] - 0s 68us/step - loss: 0.0449 - mean_absolute_error: 0.1493 - val_loss: 0.0661 - val_mean_absolute_error: 0.1757\n",
      "Epoch 44/339\n",
      "339/339 [==============================] - 0s 62us/step - loss: 0.0440 - mean_absolute_error: 0.1523 - val_loss: 0.0648 - val_mean_absolute_error: 0.1732\n",
      "Epoch 45/339\n",
      "339/339 [==============================] - 0s 68us/step - loss: 0.0430 - mean_absolute_error: 0.1482 - val_loss: 0.0639 - val_mean_absolute_error: 0.1696\n",
      "Epoch 46/339\n",
      "339/339 [==============================] - 0s 59us/step - loss: 0.0420 - mean_absolute_error: 0.1479 - val_loss: 0.0615 - val_mean_absolute_error: 0.1715\n",
      "Epoch 47/339\n",
      "339/339 [==============================] - 0s 62us/step - loss: 0.0411 - mean_absolute_error: 0.1443 - val_loss: 0.0607 - val_mean_absolute_error: 0.1670\n",
      "Epoch 48/339\n",
      "339/339 [==============================] - 0s 62us/step - loss: 0.0399 - mean_absolute_error: 0.1442 - val_loss: 0.0585 - val_mean_absolute_error: 0.1684\n",
      "Epoch 49/339\n",
      "339/339 [==============================] - 0s 61us/step - loss: 0.0392 - mean_absolute_error: 0.1432 - val_loss: 0.0577 - val_mean_absolute_error: 0.1638\n",
      "Epoch 50/339\n",
      "339/339 [==============================] - 0s 71us/step - loss: 0.0387 - mean_absolute_error: 0.1476 - val_loss: 0.0555 - val_mean_absolute_error: 0.1651\n",
      "Epoch 51/339\n",
      "339/339 [==============================] - 0s 65us/step - loss: 0.0388 - mean_absolute_error: 0.1337 - val_loss: 0.0568 - val_mean_absolute_error: 0.1552\n",
      "Epoch 52/339\n",
      "339/339 [==============================] - 0s 65us/step - loss: 0.0372 - mean_absolute_error: 0.1458 - val_loss: 0.0522 - val_mean_absolute_error: 0.1675\n",
      "Epoch 53/339\n",
      "339/339 [==============================] - 0s 59us/step - loss: 0.0359 - mean_absolute_error: 0.1361 - val_loss: 0.0532 - val_mean_absolute_error: 0.1533\n",
      "Epoch 54/339\n",
      "339/339 [==============================] - 0s 71us/step - loss: 0.0345 - mean_absolute_error: 0.1318 - val_loss: 0.0502 - val_mean_absolute_error: 0.1582\n",
      "Epoch 55/339\n",
      "339/339 [==============================] - 0s 65us/step - loss: 0.0339 - mean_absolute_error: 0.1382 - val_loss: 0.0498 - val_mean_absolute_error: 0.1520\n",
      "Epoch 56/339\n",
      "339/339 [==============================] - 0s 59us/step - loss: 0.0330 - mean_absolute_error: 0.1332 - val_loss: 0.0482 - val_mean_absolute_error: 0.1513\n",
      "Epoch 57/339\n",
      "339/339 [==============================] - 0s 62us/step - loss: 0.0321 - mean_absolute_error: 0.1250 - val_loss: 0.0480 - val_mean_absolute_error: 0.1465\n",
      "Epoch 58/339\n",
      "339/339 [==============================] - 0s 68us/step - loss: 0.0318 - mean_absolute_error: 0.1336 - val_loss: 0.0451 - val_mean_absolute_error: 0.1511\n",
      "Epoch 59/339\n",
      "339/339 [==============================] - 0s 62us/step - loss: 0.0302 - mean_absolute_error: 0.1262 - val_loss: 0.0455 - val_mean_absolute_error: 0.1426\n",
      "Epoch 60/339\n",
      "339/339 [==============================] - 0s 63us/step - loss: 0.0299 - mean_absolute_error: 0.1207 - val_loss: 0.0431 - val_mean_absolute_error: 0.1454\n",
      "Epoch 61/339\n",
      "339/339 [==============================] - 0s 59us/step - loss: 0.0290 - mean_absolute_error: 0.1287 - val_loss: 0.0418 - val_mean_absolute_error: 0.1448\n",
      "Epoch 62/339\n",
      "339/339 [==============================] - 0s 65us/step - loss: 0.0286 - mean_absolute_error: 0.1188 - val_loss: 0.0419 - val_mean_absolute_error: 0.1378\n",
      "Epoch 63/339\n",
      "339/339 [==============================] - 0s 62us/step - loss: 0.0272 - mean_absolute_error: 0.1218 - val_loss: 0.0392 - val_mean_absolute_error: 0.1450\n",
      "Epoch 64/339\n",
      "339/339 [==============================] - 0s 59us/step - loss: 0.0265 - mean_absolute_error: 0.1207 - val_loss: 0.0392 - val_mean_absolute_error: 0.1357\n",
      "Epoch 65/339\n",
      "339/339 [==============================] - 0s 67us/step - loss: 0.0260 - mean_absolute_error: 0.1172 - val_loss: 0.0379 - val_mean_absolute_error: 0.1345\n",
      "Epoch 66/339\n",
      "339/339 [==============================] - 0s 65us/step - loss: 0.0255 - mean_absolute_error: 0.1125 - val_loss: 0.0367 - val_mean_absolute_error: 0.1337\n",
      "Epoch 67/339\n",
      "339/339 [==============================] - 0s 61us/step - loss: 0.0244 - mean_absolute_error: 0.1169 - val_loss: 0.0355 - val_mean_absolute_error: 0.1329\n",
      "Epoch 68/339\n",
      "339/339 [==============================] - 0s 60us/step - loss: 0.0238 - mean_absolute_error: 0.1127 - val_loss: 0.0351 - val_mean_absolute_error: 0.1284\n",
      "Epoch 69/339\n",
      "339/339 [==============================] - 0s 59us/step - loss: 0.0230 - mean_absolute_error: 0.1124 - val_loss: 0.0334 - val_mean_absolute_error: 0.1304\n",
      "Epoch 70/339\n",
      "339/339 [==============================] - 0s 71us/step - loss: 0.0226 - mean_absolute_error: 0.1077 - val_loss: 0.0333 - val_mean_absolute_error: 0.1244\n",
      "Epoch 71/339\n",
      "339/339 [==============================] - 0s 65us/step - loss: 0.0217 - mean_absolute_error: 0.1099 - val_loss: 0.0316 - val_mean_absolute_error: 0.1261\n",
      "Epoch 72/339\n",
      "339/339 [==============================] - 0s 74us/step - loss: 0.0211 - mean_absolute_error: 0.1079 - val_loss: 0.0310 - val_mean_absolute_error: 0.1222\n",
      "Epoch 73/339\n",
      "339/339 [==============================] - 0s 56us/step - loss: 0.0204 - mean_absolute_error: 0.1041 - val_loss: 0.0300 - val_mean_absolute_error: 0.1209\n",
      "Epoch 74/339\n",
      "339/339 [==============================] - 0s 58us/step - loss: 0.0198 - mean_absolute_error: 0.1042 - val_loss: 0.0290 - val_mean_absolute_error: 0.1191\n",
      "Epoch 75/339\n",
      "339/339 [==============================] - 0s 59us/step - loss: 0.0193 - mean_absolute_error: 0.1014 - val_loss: 0.0280 - val_mean_absolute_error: 0.1183\n",
      "Epoch 76/339\n",
      "339/339 [==============================] - 0s 56us/step - loss: 0.0188 - mean_absolute_error: 0.1049 - val_loss: 0.0274 - val_mean_absolute_error: 0.1148\n",
      "Epoch 77/339\n",
      "339/339 [==============================] - 0s 62us/step - loss: 0.0186 - mean_absolute_error: 0.0955 - val_loss: 0.0266 - val_mean_absolute_error: 0.1132\n",
      "Epoch 78/339\n",
      "339/339 [==============================] - 0s 74us/step - loss: 0.0178 - mean_absolute_error: 0.1055 - val_loss: 0.0251 - val_mean_absolute_error: 0.1159\n",
      "Epoch 79/339\n",
      "339/339 [==============================] - 0s 59us/step - loss: 0.0175 - mean_absolute_error: 0.0948 - val_loss: 0.0253 - val_mean_absolute_error: 0.1083\n",
      "Epoch 80/339\n",
      "339/339 [==============================] - 0s 62us/step - loss: 0.0166 - mean_absolute_error: 0.0993 - val_loss: 0.0237 - val_mean_absolute_error: 0.1111\n",
      "Epoch 81/339\n",
      "339/339 [==============================] - 0s 54us/step - loss: 0.0160 - mean_absolute_error: 0.0922 - val_loss: 0.0237 - val_mean_absolute_error: 0.1048\n",
      "Epoch 82/339\n",
      "339/339 [==============================] - 0s 59us/step - loss: 0.0154 - mean_absolute_error: 0.0946 - val_loss: 0.0222 - val_mean_absolute_error: 0.1076\n",
      "Epoch 83/339\n",
      "339/339 [==============================] - 0s 65us/step - loss: 0.0148 - mean_absolute_error: 0.0923 - val_loss: 0.0222 - val_mean_absolute_error: 0.1017\n",
      "Epoch 84/339\n",
      "339/339 [==============================] - 0s 59us/step - loss: 0.0145 - mean_absolute_error: 0.0859 - val_loss: 0.0209 - val_mean_absolute_error: 0.1033\n",
      "Epoch 85/339\n",
      "339/339 [==============================] - 0s 62us/step - loss: 0.0143 - mean_absolute_error: 0.0945 - val_loss: 0.0206 - val_mean_absolute_error: 0.0990\n",
      "Epoch 86/339\n",
      "339/339 [==============================] - 0s 59us/step - loss: 0.0137 - mean_absolute_error: 0.0834 - val_loss: 0.0197 - val_mean_absolute_error: 0.0984\n",
      "Epoch 87/339\n",
      "339/339 [==============================] - 0s 59us/step - loss: 0.0129 - mean_absolute_error: 0.0844 - val_loss: 0.0189 - val_mean_absolute_error: 0.0982\n",
      "Epoch 88/339\n",
      "339/339 [==============================] - 0s 62us/step - loss: 0.0126 - mean_absolute_error: 0.0868 - val_loss: 0.0185 - val_mean_absolute_error: 0.0951\n",
      "Epoch 89/339\n",
      "339/339 [==============================] - 0s 56us/step - loss: 0.0122 - mean_absolute_error: 0.0801 - val_loss: 0.0176 - val_mean_absolute_error: 0.0947\n",
      "Epoch 90/339\n",
      "339/339 [==============================] - 0s 62us/step - loss: 0.0117 - mean_absolute_error: 0.0830 - val_loss: 0.0171 - val_mean_absolute_error: 0.0924\n",
      "Epoch 91/339\n",
      "339/339 [==============================] - 0s 58us/step - loss: 0.0113 - mean_absolute_error: 0.0775 - val_loss: 0.0164 - val_mean_absolute_error: 0.0921\n",
      "Epoch 92/339\n",
      "339/339 [==============================] - 0s 58us/step - loss: 0.0109 - mean_absolute_error: 0.0807 - val_loss: 0.0157 - val_mean_absolute_error: 0.0916\n",
      "Epoch 93/339\n",
      "339/339 [==============================] - 0s 59us/step - loss: 0.0106 - mean_absolute_error: 0.0763 - val_loss: 0.0153 - val_mean_absolute_error: 0.0880\n",
      "Epoch 94/339\n",
      "339/339 [==============================] - 0s 60us/step - loss: 0.0101 - mean_absolute_error: 0.0764 - val_loss: 0.0149 - val_mean_absolute_error: 0.0858\n",
      "Epoch 95/339\n",
      "339/339 [==============================] - 0s 61us/step - loss: 0.0098 - mean_absolute_error: 0.0752 - val_loss: 0.0143 - val_mean_absolute_error: 0.0848\n",
      "Epoch 96/339\n",
      "339/339 [==============================] - 0s 58us/step - loss: 0.0095 - mean_absolute_error: 0.0705 - val_loss: 0.0139 - val_mean_absolute_error: 0.0825\n",
      "Epoch 97/339\n"
     ]
    },
    {
     "name": "stdout",
     "output_type": "stream",
     "text": [
      "339/339 [==============================] - 0s 56us/step - loss: 0.0092 - mean_absolute_error: 0.0771 - val_loss: 0.0130 - val_mean_absolute_error: 0.0838\n",
      "Epoch 98/339\n",
      "339/339 [==============================] - 0s 53us/step - loss: 0.0088 - mean_absolute_error: 0.0682 - val_loss: 0.0130 - val_mean_absolute_error: 0.0789\n",
      "Epoch 99/339\n",
      "339/339 [==============================] - 0s 65us/step - loss: 0.0084 - mean_absolute_error: 0.0694 - val_loss: 0.0121 - val_mean_absolute_error: 0.0803\n",
      "Epoch 100/339\n",
      "339/339 [==============================] - 0s 65us/step - loss: 0.0081 - mean_absolute_error: 0.0690 - val_loss: 0.0118 - val_mean_absolute_error: 0.0775\n",
      "Epoch 101/339\n",
      "339/339 [==============================] - 0s 62us/step - loss: 0.0078 - mean_absolute_error: 0.0653 - val_loss: 0.0114 - val_mean_absolute_error: 0.0760\n",
      "Epoch 102/339\n",
      "339/339 [==============================] - 0s 65us/step - loss: 0.0075 - mean_absolute_error: 0.0670 - val_loss: 0.0108 - val_mean_absolute_error: 0.0759\n",
      "Epoch 103/339\n",
      "339/339 [==============================] - 0s 60us/step - loss: 0.0072 - mean_absolute_error: 0.0641 - val_loss: 0.0106 - val_mean_absolute_error: 0.0731\n",
      "Epoch 104/339\n",
      "339/339 [==============================] - 0s 59us/step - loss: 0.0069 - mean_absolute_error: 0.0640 - val_loss: 0.0101 - val_mean_absolute_error: 0.0722\n",
      "Epoch 105/339\n",
      "339/339 [==============================] - 0s 58us/step - loss: 0.0066 - mean_absolute_error: 0.0619 - val_loss: 0.0097 - val_mean_absolute_error: 0.0709\n",
      "Epoch 106/339\n",
      "339/339 [==============================] - 0s 62us/step - loss: 0.0064 - mean_absolute_error: 0.0608 - val_loss: 0.0093 - val_mean_absolute_error: 0.0698\n",
      "Epoch 107/339\n",
      "339/339 [==============================] - 0s 68us/step - loss: 0.0062 - mean_absolute_error: 0.0597 - val_loss: 0.0088 - val_mean_absolute_error: 0.0706\n",
      "Epoch 108/339\n",
      "339/339 [==============================] - 0s 61us/step - loss: 0.0060 - mean_absolute_error: 0.0600 - val_loss: 0.0091 - val_mean_absolute_error: 0.0642\n",
      "Epoch 109/339\n",
      "339/339 [==============================] - 0s 63us/step - loss: 0.0059 - mean_absolute_error: 0.0586 - val_loss: 0.0081 - val_mean_absolute_error: 0.0669\n",
      "Epoch 110/339\n",
      "339/339 [==============================] - 0s 62us/step - loss: 0.0055 - mean_absolute_error: 0.0558 - val_loss: 0.0079 - val_mean_absolute_error: 0.0640\n",
      "Epoch 111/339\n",
      "339/339 [==============================] - 0s 68us/step - loss: 0.0052 - mean_absolute_error: 0.0554 - val_loss: 0.0075 - val_mean_absolute_error: 0.0636\n",
      "Epoch 112/339\n",
      "339/339 [==============================] - 0s 56us/step - loss: 0.0050 - mean_absolute_error: 0.0534 - val_loss: 0.0072 - val_mean_absolute_error: 0.0624\n",
      "Epoch 113/339\n",
      "339/339 [==============================] - 0s 74us/step - loss: 0.0050 - mean_absolute_error: 0.0570 - val_loss: 0.0072 - val_mean_absolute_error: 0.0591\n",
      "Epoch 114/339\n",
      "339/339 [==============================] - 0s 53us/step - loss: 0.0048 - mean_absolute_error: 0.0496 - val_loss: 0.0066 - val_mean_absolute_error: 0.0605\n",
      "Epoch 115/339\n",
      "339/339 [==============================] - 0s 68us/step - loss: 0.0044 - mean_absolute_error: 0.0528 - val_loss: 0.0065 - val_mean_absolute_error: 0.0576\n",
      "Epoch 116/339\n",
      "339/339 [==============================] - 0s 64us/step - loss: 0.0043 - mean_absolute_error: 0.0487 - val_loss: 0.0061 - val_mean_absolute_error: 0.0571\n",
      "Epoch 117/339\n",
      "339/339 [==============================] - 0s 68us/step - loss: 0.0041 - mean_absolute_error: 0.0517 - val_loss: 0.0058 - val_mean_absolute_error: 0.0564\n",
      "Epoch 118/339\n",
      "339/339 [==============================] - 0s 76us/step - loss: 0.0040 - mean_absolute_error: 0.0463 - val_loss: 0.0056 - val_mean_absolute_error: 0.0552\n",
      "Epoch 119/339\n",
      "339/339 [==============================] - 0s 59us/step - loss: 0.0039 - mean_absolute_error: 0.0505 - val_loss: 0.0057 - val_mean_absolute_error: 0.0516\n",
      "Epoch 120/339\n",
      "339/339 [==============================] - 0s 82us/step - loss: 0.0037 - mean_absolute_error: 0.0433 - val_loss: 0.0051 - val_mean_absolute_error: 0.0555\n",
      "Epoch 121/339\n",
      "339/339 [==============================] - 0s 64us/step - loss: 0.0036 - mean_absolute_error: 0.0510 - val_loss: 0.0054 - val_mean_absolute_error: 0.0486\n",
      "Epoch 122/339\n",
      "339/339 [==============================] - 0s 65us/step - loss: 0.0036 - mean_absolute_error: 0.0422 - val_loss: 0.0046 - val_mean_absolute_error: 0.0547\n",
      "Epoch 123/339\n",
      "339/339 [==============================] - 0s 62us/step - loss: 0.0032 - mean_absolute_error: 0.0459 - val_loss: 0.0048 - val_mean_absolute_error: 0.0469\n",
      "Epoch 124/339\n",
      "339/339 [==============================] - 0s 64us/step - loss: 0.0032 - mean_absolute_error: 0.0451 - val_loss: 0.0043 - val_mean_absolute_error: 0.0479\n",
      "Epoch 125/339\n",
      "339/339 [==============================] - 0s 62us/step - loss: 0.0029 - mean_absolute_error: 0.0404 - val_loss: 0.0041 - val_mean_absolute_error: 0.0465\n",
      "Epoch 126/339\n",
      "339/339 [==============================] - 0s 65us/step - loss: 0.0027 - mean_absolute_error: 0.0406 - val_loss: 0.0039 - val_mean_absolute_error: 0.0456\n",
      "Epoch 127/339\n",
      "339/339 [==============================] - 0s 62us/step - loss: 0.0026 - mean_absolute_error: 0.0384 - val_loss: 0.0037 - val_mean_absolute_error: 0.0454\n",
      "Epoch 128/339\n",
      "339/339 [==============================] - 0s 68us/step - loss: 0.0025 - mean_absolute_error: 0.0402 - val_loss: 0.0037 - val_mean_absolute_error: 0.0429\n",
      "Epoch 129/339\n",
      "339/339 [==============================] - 0s 62us/step - loss: 0.0023 - mean_absolute_error: 0.0374 - val_loss: 0.0034 - val_mean_absolute_error: 0.0431\n",
      "Epoch 130/339\n",
      "339/339 [==============================] - 0s 65us/step - loss: 0.0022 - mean_absolute_error: 0.0377 - val_loss: 0.0033 - val_mean_absolute_error: 0.0413\n",
      "Epoch 131/339\n",
      "339/339 [==============================] - 0s 62us/step - loss: 0.0022 - mean_absolute_error: 0.0360 - val_loss: 0.0031 - val_mean_absolute_error: 0.0402\n",
      "Epoch 132/339\n",
      "339/339 [==============================] - 0s 62us/step - loss: 0.0020 - mean_absolute_error: 0.0342 - val_loss: 0.0029 - val_mean_absolute_error: 0.0418\n",
      "Epoch 133/339\n",
      "339/339 [==============================] - 0s 65us/step - loss: 0.0020 - mean_absolute_error: 0.0363 - val_loss: 0.0028 - val_mean_absolute_error: 0.0382\n",
      "Epoch 134/339\n",
      "339/339 [==============================] - 0s 59us/step - loss: 0.0019 - mean_absolute_error: 0.0335 - val_loss: 0.0027 - val_mean_absolute_error: 0.0378\n",
      "Epoch 135/339\n",
      "339/339 [==============================] - 0s 63us/step - loss: 0.0018 - mean_absolute_error: 0.0318 - val_loss: 0.0025 - val_mean_absolute_error: 0.0383\n",
      "Epoch 136/339\n",
      "339/339 [==============================] - 0s 59us/step - loss: 0.0017 - mean_absolute_error: 0.0339 - val_loss: 0.0025 - val_mean_absolute_error: 0.0351\n",
      "Epoch 137/339\n",
      "339/339 [==============================] - 0s 62us/step - loss: 0.0016 - mean_absolute_error: 0.0296 - val_loss: 0.0022 - val_mean_absolute_error: 0.0367\n",
      "Epoch 138/339\n",
      "339/339 [==============================] - 0s 68us/step - loss: 0.0015 - mean_absolute_error: 0.0323 - val_loss: 0.0022 - val_mean_absolute_error: 0.0332\n",
      "Epoch 139/339\n",
      "339/339 [==============================] - 0s 59us/step - loss: 0.0015 - mean_absolute_error: 0.0288 - val_loss: 0.0020 - val_mean_absolute_error: 0.0338\n",
      "Epoch 140/339\n",
      "339/339 [==============================] - 0s 64us/step - loss: 0.0013 - mean_absolute_error: 0.0286 - val_loss: 0.0019 - val_mean_absolute_error: 0.0320\n",
      "Epoch 141/339\n",
      "339/339 [==============================] - 0s 64us/step - loss: 0.0013 - mean_absolute_error: 0.0276 - val_loss: 0.0018 - val_mean_absolute_error: 0.0323\n",
      "Epoch 142/339\n",
      "339/339 [==============================] - ETA: 0s - loss: 9.8956e-04 - mean_absolute_error: 0.026 - 0s 62us/step - loss: 0.0012 - mean_absolute_error: 0.0283 - val_loss: 0.0018 - val_mean_absolute_error: 0.0299\n",
      "Epoch 143/339\n",
      "339/339 [==============================] - 0s 65us/step - loss: 0.0011 - mean_absolute_error: 0.0262 - val_loss: 0.0016 - val_mean_absolute_error: 0.0312\n",
      "Epoch 144/339\n",
      "339/339 [==============================] - 0s 65us/step - loss: 0.0011 - mean_absolute_error: 0.0259 - val_loss: 0.0016 - val_mean_absolute_error: 0.0291\n",
      "Epoch 145/339\n",
      "339/339 [==============================] - 0s 62us/step - loss: 0.0010 - mean_absolute_error: 0.0262 - val_loss: 0.0015 - val_mean_absolute_error: 0.0282\n",
      "Epoch 146/339\n",
      "339/339 [==============================] - 0s 68us/step - loss: 9.7796e-04 - mean_absolute_error: 0.0247 - val_loss: 0.0014 - val_mean_absolute_error: 0.0274\n",
      "Epoch 147/339\n",
      "339/339 [==============================] - 0s 61us/step - loss: 9.1889e-04 - mean_absolute_error: 0.0236 - val_loss: 0.0013 - val_mean_absolute_error: 0.0271\n",
      "Epoch 148/339\n",
      "339/339 [==============================] - 0s 63us/step - loss: 8.7871e-04 - mean_absolute_error: 0.0230 - val_loss: 0.0012 - val_mean_absolute_error: 0.0268\n",
      "Epoch 149/339\n",
      "339/339 [==============================] - 0s 62us/step - loss: 8.7672e-04 - mean_absolute_error: 0.0247 - val_loss: 0.0012 - val_mean_absolute_error: 0.0247\n",
      "Epoch 150/339\n",
      "339/339 [==============================] - 0s 71us/step - loss: 7.8960e-04 - mean_absolute_error: 0.0216 - val_loss: 0.0011 - val_mean_absolute_error: 0.0252\n",
      "Epoch 151/339\n",
      "339/339 [==============================] - 0s 65us/step - loss: 7.3612e-04 - mean_absolute_error: 0.0219 - val_loss: 0.0010 - val_mean_absolute_error: 0.0245\n",
      "Epoch 152/339\n",
      "339/339 [==============================] - 0s 64us/step - loss: 6.9929e-04 - mean_absolute_error: 0.0213 - val_loss: 0.0011 - val_mean_absolute_error: 0.0226\n",
      "Epoch 153/339\n",
      "339/339 [==============================] - 0s 60us/step - loss: 6.7771e-04 - mean_absolute_error: 0.0204 - val_loss: 9.1809e-04 - val_mean_absolute_error: 0.0237\n",
      "Epoch 154/339\n",
      "339/339 [==============================] - 0s 62us/step - loss: 6.5163e-04 - mean_absolute_error: 0.0196 - val_loss: 8.6563e-04 - val_mean_absolute_error: 0.0238\n",
      "Epoch 155/339\n",
      "339/339 [==============================] - 0s 62us/step - loss: 6.0909e-04 - mean_absolute_error: 0.0204 - val_loss: 9.1310e-04 - val_mean_absolute_error: 0.0207\n",
      "Epoch 156/339\n",
      "339/339 [==============================] - 0s 59us/step - loss: 5.6227e-04 - mean_absolute_error: 0.0180 - val_loss: 7.7548e-04 - val_mean_absolute_error: 0.0231\n",
      "Epoch 157/339\n",
      "339/339 [==============================] - 0s 62us/step - loss: 5.7352e-04 - mean_absolute_error: 0.0193 - val_loss: 7.3244e-04 - val_mean_absolute_error: 0.0210\n",
      "Epoch 158/339\n",
      "339/339 [==============================] - 0s 65us/step - loss: 5.1224e-04 - mean_absolute_error: 0.0190 - val_loss: 7.4548e-04 - val_mean_absolute_error: 0.0192\n",
      "Epoch 159/339\n",
      "339/339 [==============================] - 0s 58us/step - loss: 4.7553e-04 - mean_absolute_error: 0.0170 - val_loss: 6.4638e-04 - val_mean_absolute_error: 0.0199\n",
      "Epoch 160/339\n",
      "339/339 [==============================] - 0s 68us/step - loss: 4.4486e-04 - mean_absolute_error: 0.0170 - val_loss: 6.1685e-04 - val_mean_absolute_error: 0.0189\n",
      "Epoch 161/339\n",
      "339/339 [==============================] - 0s 62us/step - loss: 4.1877e-04 - mean_absolute_error: 0.0166 - val_loss: 5.8090e-04 - val_mean_absolute_error: 0.0184\n",
      "Epoch 162/339\n",
      "339/339 [==============================] - 0s 68us/step - loss: 4.0305e-04 - mean_absolute_error: 0.0154 - val_loss: 5.3896e-04 - val_mean_absolute_error: 0.0189\n",
      "Epoch 163/339\n",
      "339/339 [==============================] - 0s 62us/step - loss: 3.7221e-04 - mean_absolute_error: 0.0160 - val_loss: 5.5229e-04 - val_mean_absolute_error: 0.0166\n",
      "Epoch 164/339\n",
      "339/339 [==============================] - 0s 65us/step - loss: 3.6934e-04 - mean_absolute_error: 0.0155 - val_loss: 4.8760e-04 - val_mean_absolute_error: 0.0167\n",
      "Epoch 165/339\n",
      "339/339 [==============================] - 0s 62us/step - loss: 3.3140e-04 - mean_absolute_error: 0.0145 - val_loss: 4.5363e-04 - val_mean_absolute_error: 0.0164\n",
      "Epoch 166/339\n",
      "339/339 [==============================] - 0s 72us/step - loss: 3.1036e-04 - mean_absolute_error: 0.0139 - val_loss: 4.2227e-04 - val_mean_absolute_error: 0.0162\n",
      "Epoch 167/339\n",
      "339/339 [==============================] - 0s 66us/step - loss: 2.9313e-04 - mean_absolute_error: 0.0137 - val_loss: 3.9778e-04 - val_mean_absolute_error: 0.0156\n",
      "Epoch 168/339\n",
      "339/339 [==============================] - 0s 68us/step - loss: 2.7260e-04 - mean_absolute_error: 0.0137 - val_loss: 3.7555e-04 - val_mean_absolute_error: 0.0150\n",
      "Epoch 169/339\n",
      "339/339 [==============================] - 0s 74us/step - loss: 2.5589e-04 - mean_absolute_error: 0.0129 - val_loss: 3.6902e-04 - val_mean_absolute_error: 0.0140\n",
      "Epoch 170/339\n",
      "339/339 [==============================] - 0s 65us/step - loss: 2.4771e-04 - mean_absolute_error: 0.0127 - val_loss: 3.2819e-04 - val_mean_absolute_error: 0.0143\n",
      "Epoch 171/339\n",
      "339/339 [==============================] - 0s 63us/step - loss: 2.2648e-04 - mean_absolute_error: 0.0120 - val_loss: 3.1207e-04 - val_mean_absolute_error: 0.0136\n",
      "Epoch 172/339\n",
      "339/339 [==============================] - 0s 62us/step - loss: 2.1379e-04 - mean_absolute_error: 0.0117 - val_loss: 2.9629e-04 - val_mean_absolute_error: 0.0130\n",
      "Epoch 173/339\n",
      "339/339 [==============================] - 0s 65us/step - loss: 2.0700e-04 - mean_absolute_error: 0.0122 - val_loss: 2.9296e-04 - val_mean_absolute_error: 0.0123\n",
      "Epoch 174/339\n",
      "339/339 [==============================] - 0s 68us/step - loss: 2.0033e-04 - mean_absolute_error: 0.0106 - val_loss: 2.6609e-04 - val_mean_absolute_error: 0.0144\n",
      "Epoch 175/339\n",
      "339/339 [==============================] - 0s 68us/step - loss: 2.0152e-04 - mean_absolute_error: 0.0120 - val_loss: 2.7766e-04 - val_mean_absolute_error: 0.0114\n",
      "Epoch 176/339\n",
      "339/339 [==============================] - 0s 76us/step - loss: 1.6472e-04 - mean_absolute_error: 0.0103 - val_loss: 2.2297e-04 - val_mean_absolute_error: 0.0125\n",
      "Epoch 177/339\n",
      "339/339 [==============================] - 0s 65us/step - loss: 1.5521e-04 - mean_absolute_error: 0.0102 - val_loss: 2.2450e-04 - val_mean_absolute_error: 0.0109\n",
      "Epoch 178/339\n",
      "339/339 [==============================] - 0s 65us/step - loss: 1.4837e-04 - mean_absolute_error: 0.0096 - val_loss: 1.9963e-04 - val_mean_absolute_error: 0.0122\n",
      "Epoch 179/339\n",
      "339/339 [==============================] - 0s 66us/step - loss: 1.4453e-04 - mean_absolute_error: 0.0098 - val_loss: 2.1459e-04 - val_mean_absolute_error: 0.0100\n",
      "Epoch 180/339\n",
      "339/339 [==============================] - 0s 62us/step - loss: 1.3158e-04 - mean_absolute_error: 0.0095 - val_loss: 1.7050e-04 - val_mean_absolute_error: 0.0105\n",
      "Epoch 181/339\n",
      "339/339 [==============================] - 0s 61us/step - loss: 1.1998e-04 - mean_absolute_error: 0.0088 - val_loss: 1.5925e-04 - val_mean_absolute_error: 0.0101\n",
      "Epoch 182/339\n",
      "339/339 [==============================] - 0s 62us/step - loss: 1.1284e-04 - mean_absolute_error: 0.0088 - val_loss: 1.5018e-04 - val_mean_absolute_error: 0.0096\n",
      "Epoch 183/339\n",
      "339/339 [==============================] - 0s 67us/step - loss: 1.0619e-04 - mean_absolute_error: 0.0083 - val_loss: 1.3756e-04 - val_mean_absolute_error: 0.0097\n",
      "Epoch 184/339\n",
      "339/339 [==============================] - 0s 65us/step - loss: 9.9244e-05 - mean_absolute_error: 0.0081 - val_loss: 1.3931e-04 - val_mean_absolute_error: 0.0086\n",
      "Epoch 185/339\n",
      "339/339 [==============================] - 0s 71us/step - loss: 8.9990e-05 - mean_absolute_error: 0.0078 - val_loss: 1.1966e-04 - val_mean_absolute_error: 0.0090\n",
      "Epoch 186/339\n",
      "339/339 [==============================] - 0s 58us/step - loss: 8.6537e-05 - mean_absolute_error: 0.0076 - val_loss: 1.1169e-04 - val_mean_absolute_error: 0.0085\n",
      "Epoch 187/339\n",
      "339/339 [==============================] - 0s 59us/step - loss: 7.9125e-05 - mean_absolute_error: 0.0073 - val_loss: 1.0609e-04 - val_mean_absolute_error: 0.0080\n",
      "Epoch 188/339\n",
      "339/339 [==============================] - 0s 59us/step - loss: 7.4185e-05 - mean_absolute_error: 0.0072 - val_loss: 9.7165e-05 - val_mean_absolute_error: 0.0079\n",
      "Epoch 189/339\n",
      "339/339 [==============================] - 0s 65us/step - loss: 7.0866e-05 - mean_absolute_error: 0.0067 - val_loss: 8.9980e-05 - val_mean_absolute_error: 0.0080\n",
      "Epoch 190/339\n",
      "339/339 [==============================] - 0s 60us/step - loss: 6.5130e-05 - mean_absolute_error: 0.0068 - val_loss: 8.7141e-05 - val_mean_absolute_error: 0.0071\n",
      "Epoch 191/339\n",
      "339/339 [==============================] - 0s 68us/step - loss: 6.1147e-05 - mean_absolute_error: 0.0064 - val_loss: 7.8788e-05 - val_mean_absolute_error: 0.0070\n"
     ]
    },
    {
     "name": "stdout",
     "output_type": "stream",
     "text": [
      "Epoch 192/339\n",
      "339/339 [==============================] - 0s 59us/step - loss: 5.5729e-05 - mean_absolute_error: 0.0062 - val_loss: 7.2408e-05 - val_mean_absolute_error: 0.0069\n",
      "Epoch 193/339\n",
      "339/339 [==============================] - 0s 65us/step - loss: 5.1982e-05 - mean_absolute_error: 0.0060 - val_loss: 6.8968e-05 - val_mean_absolute_error: 0.0065\n",
      "Epoch 194/339\n",
      "339/339 [==============================] - 0s 58us/step - loss: 4.9708e-05 - mean_absolute_error: 0.0057 - val_loss: 6.2140e-05 - val_mean_absolute_error: 0.0067\n",
      "Epoch 195/339\n",
      "339/339 [==============================] - 0s 55us/step - loss: 4.5120e-05 - mean_absolute_error: 0.0056 - val_loss: 6.1001e-05 - val_mean_absolute_error: 0.0059\n",
      "Epoch 196/339\n",
      "339/339 [==============================] - 0s 65us/step - loss: 4.1549e-05 - mean_absolute_error: 0.0052 - val_loss: 5.3639e-05 - val_mean_absolute_error: 0.0062\n",
      "Epoch 197/339\n",
      "339/339 [==============================] - 0s 59us/step - loss: 4.0063e-05 - mean_absolute_error: 0.0053 - val_loss: 5.1919e-05 - val_mean_absolute_error: 0.0055\n",
      "Epoch 198/339\n",
      "339/339 [==============================] - 0s 68us/step - loss: 3.7031e-05 - mean_absolute_error: 0.0051 - val_loss: 4.6379e-05 - val_mean_absolute_error: 0.0055\n",
      "Epoch 199/339\n",
      "339/339 [==============================] - 0s 65us/step - loss: 3.3800e-05 - mean_absolute_error: 0.0048 - val_loss: 4.3298e-05 - val_mean_absolute_error: 0.0052\n",
      "Epoch 200/339\n",
      "339/339 [==============================] - 0s 59us/step - loss: 3.1593e-05 - mean_absolute_error: 0.0047 - val_loss: 4.1707e-05 - val_mean_absolute_error: 0.0049\n",
      "Epoch 201/339\n",
      "339/339 [==============================] - 0s 59us/step - loss: 2.9826e-05 - mean_absolute_error: 0.0045 - val_loss: 3.6325e-05 - val_mean_absolute_error: 0.0050\n",
      "Epoch 202/339\n",
      "339/339 [==============================] - 0s 55us/step - loss: 2.6954e-05 - mean_absolute_error: 0.0042 - val_loss: 3.3984e-05 - val_mean_absolute_error: 0.0047\n",
      "Epoch 203/339\n",
      "339/339 [==============================] - 0s 58us/step - loss: 2.5308e-05 - mean_absolute_error: 0.0042 - val_loss: 3.1225e-05 - val_mean_absolute_error: 0.0046\n",
      "Epoch 204/339\n",
      "339/339 [==============================] - 0s 56us/step - loss: 2.3455e-05 - mean_absolute_error: 0.0041 - val_loss: 2.9548e-05 - val_mean_absolute_error: 0.0043\n",
      "Epoch 205/339\n",
      "339/339 [==============================] - 0s 62us/step - loss: 2.2310e-05 - mean_absolute_error: 0.0040 - val_loss: 2.7259e-05 - val_mean_absolute_error: 0.0041\n",
      "Epoch 206/339\n",
      "339/339 [==============================] - 0s 58us/step - loss: 2.0562e-05 - mean_absolute_error: 0.0038 - val_loss: 2.5625e-05 - val_mean_absolute_error: 0.0039\n",
      "Epoch 207/339\n",
      "339/339 [==============================] - 0s 59us/step - loss: 1.9066e-05 - mean_absolute_error: 0.0036 - val_loss: 2.3247e-05 - val_mean_absolute_error: 0.0038\n",
      "Epoch 208/339\n",
      "339/339 [==============================] - 0s 62us/step - loss: 1.7443e-05 - mean_absolute_error: 0.0035 - val_loss: 2.0747e-05 - val_mean_absolute_error: 0.0039\n",
      "Epoch 209/339\n",
      "339/339 [==============================] - 0s 62us/step - loss: 1.6222e-05 - mean_absolute_error: 0.0033 - val_loss: 1.9159e-05 - val_mean_absolute_error: 0.0036\n",
      "Epoch 210/339\n",
      "339/339 [==============================] - 0s 62us/step - loss: 1.4861e-05 - mean_absolute_error: 0.0032 - val_loss: 1.7792e-05 - val_mean_absolute_error: 0.0037\n",
      "Epoch 211/339\n",
      "339/339 [==============================] - 0s 60us/step - loss: 1.3827e-05 - mean_absolute_error: 0.0032 - val_loss: 1.6529e-05 - val_mean_absolute_error: 0.0033\n",
      "Epoch 212/339\n",
      "339/339 [==============================] - 0s 62us/step - loss: 1.2894e-05 - mean_absolute_error: 0.0030 - val_loss: 1.5122e-05 - val_mean_absolute_error: 0.0034\n",
      "Epoch 213/339\n",
      "339/339 [==============================] - 0s 57us/step - loss: 1.1847e-05 - mean_absolute_error: 0.0028 - val_loss: 1.3756e-05 - val_mean_absolute_error: 0.0031\n",
      "Epoch 214/339\n",
      "339/339 [==============================] - 0s 59us/step - loss: 1.1115e-05 - mean_absolute_error: 0.0029 - val_loss: 1.4138e-05 - val_mean_absolute_error: 0.0028\n",
      "Epoch 215/339\n",
      "339/339 [==============================] - 0s 56us/step - loss: 1.0154e-05 - mean_absolute_error: 0.0027 - val_loss: 1.1617e-05 - val_mean_absolute_error: 0.0028\n",
      "Epoch 216/339\n",
      "339/339 [==============================] - 0s 59us/step - loss: 9.1645e-06 - mean_absolute_error: 0.0025 - val_loss: 1.0645e-05 - val_mean_absolute_error: 0.0027\n",
      "Epoch 217/339\n",
      "339/339 [==============================] - 0s 59us/step - loss: 8.7988e-06 - mean_absolute_error: 0.0025 - val_loss: 1.1269e-05 - val_mean_absolute_error: 0.0025\n",
      "Epoch 218/339\n",
      "339/339 [==============================] - 0s 59us/step - loss: 8.0212e-06 - mean_absolute_error: 0.0023 - val_loss: 8.8954e-06 - val_mean_absolute_error: 0.0026\n",
      "Epoch 219/339\n",
      "339/339 [==============================] - 0s 58us/step - loss: 7.2466e-06 - mean_absolute_error: 0.0023 - val_loss: 8.1710e-06 - val_mean_absolute_error: 0.0024\n",
      "Epoch 220/339\n",
      "339/339 [==============================] - 0s 66us/step - loss: 6.6218e-06 - mean_absolute_error: 0.0021 - val_loss: 7.4767e-06 - val_mean_absolute_error: 0.0024\n",
      "Epoch 221/339\n",
      "339/339 [==============================] - 0s 59us/step - loss: 6.1675e-06 - mean_absolute_error: 0.0021 - val_loss: 6.9507e-06 - val_mean_absolute_error: 0.0023\n",
      "Epoch 222/339\n",
      "339/339 [==============================] - 0s 59us/step - loss: 5.6491e-06 - mean_absolute_error: 0.0020 - val_loss: 6.9066e-06 - val_mean_absolute_error: 0.0020\n",
      "Epoch 223/339\n",
      "339/339 [==============================] - 0s 58us/step - loss: 5.4860e-06 - mean_absolute_error: 0.0020 - val_loss: 5.7415e-06 - val_mean_absolute_error: 0.0021\n",
      "Epoch 224/339\n",
      "339/339 [==============================] - 0s 59us/step - loss: 4.8689e-06 - mean_absolute_error: 0.0018 - val_loss: 5.3472e-06 - val_mean_absolute_error: 0.0021\n",
      "Epoch 225/339\n",
      "339/339 [==============================] - 0s 60us/step - loss: 4.4803e-06 - mean_absolute_error: 0.0018 - val_loss: 4.8321e-06 - val_mean_absolute_error: 0.0018\n",
      "Epoch 226/339\n",
      "339/339 [==============================] - 0s 63us/step - loss: 4.0163e-06 - mean_absolute_error: 0.0017 - val_loss: 4.4710e-06 - val_mean_absolute_error: 0.0019\n",
      "Epoch 227/339\n",
      "339/339 [==============================] - 0s 61us/step - loss: 3.7050e-06 - mean_absolute_error: 0.0016 - val_loss: 4.0820e-06 - val_mean_absolute_error: 0.0017\n",
      "Epoch 228/339\n",
      "339/339 [==============================] - 0s 62us/step - loss: 3.4624e-06 - mean_absolute_error: 0.0016 - val_loss: 3.8984e-06 - val_mean_absolute_error: 0.0016\n",
      "Epoch 229/339\n",
      "339/339 [==============================] - 0s 71us/step - loss: 3.1746e-06 - mean_absolute_error: 0.0015 - val_loss: 3.3512e-06 - val_mean_absolute_error: 0.0016\n",
      "Epoch 230/339\n",
      "339/339 [==============================] - 0s 59us/step - loss: 2.9268e-06 - mean_absolute_error: 0.0014 - val_loss: 3.2049e-06 - val_mean_absolute_error: 0.0016\n",
      "Epoch 231/339\n",
      "339/339 [==============================] - 0s 68us/step - loss: 2.8349e-06 - mean_absolute_error: 0.0014 - val_loss: 2.8359e-06 - val_mean_absolute_error: 0.0015\n",
      "Epoch 232/339\n",
      "339/339 [==============================] - 0s 74us/step - loss: 2.5021e-06 - mean_absolute_error: 0.0013 - val_loss: 2.8435e-06 - val_mean_absolute_error: 0.0013\n",
      "Epoch 233/339\n",
      "339/339 [==============================] - 0s 65us/step - loss: 2.3606e-06 - mean_absolute_error: 0.0013 - val_loss: 2.3795e-06 - val_mean_absolute_error: 0.0013\n",
      "Epoch 234/339\n",
      "339/339 [==============================] - 0s 56us/step - loss: 2.2098e-06 - mean_absolute_error: 0.0012 - val_loss: 2.1032e-06 - val_mean_absolute_error: 0.0012\n",
      "Epoch 235/339\n",
      "339/339 [==============================] - 0s 71us/step - loss: 1.9833e-06 - mean_absolute_error: 0.0012 - val_loss: 2.0629e-06 - val_mean_absolute_error: 0.0013\n",
      "Epoch 236/339\n",
      "339/339 [==============================] - 0s 59us/step - loss: 1.8092e-06 - mean_absolute_error: 0.0011 - val_loss: 1.7741e-06 - val_mean_absolute_error: 0.0012\n",
      "Epoch 237/339\n",
      "339/339 [==============================] - 0s 65us/step - loss: 1.6078e-06 - mean_absolute_error: 0.0011 - val_loss: 1.6054e-06 - val_mean_absolute_error: 0.0011\n",
      "Epoch 238/339\n",
      "339/339 [==============================] - 0s 58us/step - loss: 1.4623e-06 - mean_absolute_error: 0.0010 - val_loss: 1.4379e-06 - val_mean_absolute_error: 0.0010\n",
      "Epoch 239/339\n",
      "339/339 [==============================] - 0s 62us/step - loss: 1.3462e-06 - mean_absolute_error: 9.7946e-04 - val_loss: 1.3533e-06 - val_mean_absolute_error: 0.0010\n",
      "Epoch 240/339\n",
      "339/339 [==============================] - 0s 65us/step - loss: 1.2334e-06 - mean_absolute_error: 9.2021e-04 - val_loss: 1.2299e-06 - val_mean_absolute_error: 9.8026e-04\n",
      "Epoch 241/339\n",
      "339/339 [==============================] - 0s 71us/step - loss: 1.1519e-06 - mean_absolute_error: 9.0329e-04 - val_loss: 1.1077e-06 - val_mean_absolute_error: 9.2452e-04\n",
      "Epoch 242/339\n",
      "339/339 [==============================] - 0s 65us/step - loss: 1.0336e-06 - mean_absolute_error: 8.5640e-04 - val_loss: 1.0077e-06 - val_mean_absolute_error: 8.7739e-04\n",
      "Epoch 243/339\n",
      "339/339 [==============================] - 0s 59us/step - loss: 9.3789e-07 - mean_absolute_error: 8.1324e-04 - val_loss: 9.0817e-07 - val_mean_absolute_error: 7.9531e-04\n",
      "Epoch 244/339\n",
      "339/339 [==============================] - 0s 59us/step - loss: 8.6389e-07 - mean_absolute_error: 7.8232e-04 - val_loss: 8.2191e-07 - val_mean_absolute_error: 7.6992e-04\n",
      "Epoch 245/339\n",
      "339/339 [==============================] - 0s 56us/step - loss: 7.9609e-07 - mean_absolute_error: 7.3806e-04 - val_loss: 7.7042e-07 - val_mean_absolute_error: 7.5797e-04\n",
      "Epoch 246/339\n",
      "339/339 [==============================] - 0s 59us/step - loss: 7.2682e-07 - mean_absolute_error: 7.1530e-04 - val_loss: 6.8488e-07 - val_mean_absolute_error: 6.9700e-04\n",
      "Epoch 247/339\n",
      "339/339 [==============================] - 0s 71us/step - loss: 6.7073e-07 - mean_absolute_error: 6.8413e-04 - val_loss: 6.2824e-07 - val_mean_absolute_error: 6.6778e-04\n",
      "Epoch 248/339\n",
      "339/339 [==============================] - 0s 62us/step - loss: 6.1177e-07 - mean_absolute_error: 6.3524e-04 - val_loss: 6.3566e-07 - val_mean_absolute_error: 7.0507e-04\n",
      "Epoch 249/339\n",
      "339/339 [==============================] - 0s 56us/step - loss: 5.9176e-07 - mean_absolute_error: 6.2362e-04 - val_loss: 5.3084e-07 - val_mean_absolute_error: 6.1764e-04\n",
      "Epoch 250/339\n",
      "339/339 [==============================] - 0s 59us/step - loss: 6.1336e-07 - mean_absolute_error: 6.6301e-04 - val_loss: 5.1123e-07 - val_mean_absolute_error: 5.5491e-04\n",
      "Epoch 251/339\n",
      "339/339 [==============================] - 0s 65us/step - loss: 5.0527e-07 - mean_absolute_error: 5.9781e-04 - val_loss: 4.6425e-07 - val_mean_absolute_error: 5.2621e-04\n",
      "Epoch 252/339\n",
      "339/339 [==============================] - 0s 59us/step - loss: 4.6956e-07 - mean_absolute_error: 5.6716e-04 - val_loss: 4.2432e-07 - val_mean_absolute_error: 5.0673e-04\n",
      "Epoch 253/339\n",
      "339/339 [==============================] - 0s 56us/step - loss: 4.3215e-07 - mean_absolute_error: 5.3422e-04 - val_loss: 3.8305e-07 - val_mean_absolute_error: 5.2398e-04\n",
      "Epoch 254/339\n",
      "339/339 [==============================] - 0s 62us/step - loss: 3.8004e-07 - mean_absolute_error: 4.8994e-04 - val_loss: 3.7583e-07 - val_mean_absolute_error: 5.3324e-04\n",
      "Epoch 255/339\n",
      "339/339 [==============================] - 0s 59us/step - loss: 3.5642e-07 - mean_absolute_error: 4.7833e-04 - val_loss: 3.2882e-07 - val_mean_absolute_error: 4.7249e-04\n",
      "Epoch 256/339\n",
      "339/339 [==============================] - 0s 65us/step - loss: 3.2320e-07 - mean_absolute_error: 4.7220e-04 - val_loss: 3.0774e-07 - val_mean_absolute_error: 4.5549e-04\n",
      "Epoch 257/339\n",
      "339/339 [==============================] - 0s 62us/step - loss: 2.9619e-07 - mean_absolute_error: 4.3698e-04 - val_loss: 3.5620e-07 - val_mean_absolute_error: 5.2049e-04\n",
      "Epoch 258/339\n",
      "339/339 [==============================] - 0s 62us/step - loss: 3.0365e-07 - mean_absolute_error: 4.4931e-04 - val_loss: 3.0187e-07 - val_mean_absolute_error: 4.7012e-04\n",
      "Epoch 259/339\n",
      "339/339 [==============================] - 0s 59us/step - loss: 2.7874e-07 - mean_absolute_error: 4.2302e-04 - val_loss: 3.3218e-07 - val_mean_absolute_error: 4.9606e-04\n",
      "Epoch 260/339\n",
      "339/339 [==============================] - 0s 56us/step - loss: 2.7817e-07 - mean_absolute_error: 4.2257e-04 - val_loss: 4.1932e-07 - val_mean_absolute_error: 5.6150e-04\n",
      "Epoch 261/339\n",
      "339/339 [==============================] - 0s 64us/step - loss: 2.7658e-07 - mean_absolute_error: 4.2344e-04 - val_loss: 2.4190e-07 - val_mean_absolute_error: 3.9924e-04\n",
      "Epoch 262/339\n",
      "339/339 [==============================] - 0s 62us/step - loss: 2.3497e-07 - mean_absolute_error: 3.9003e-04 - val_loss: 2.2173e-07 - val_mean_absolute_error: 3.6429e-04\n",
      "Epoch 263/339\n",
      "339/339 [==============================] - 0s 56us/step - loss: 1.9818e-07 - mean_absolute_error: 3.6103e-04 - val_loss: 2.1322e-07 - val_mean_absolute_error: 3.5018e-04\n",
      "Epoch 264/339\n",
      "339/339 [==============================] - 0s 56us/step - loss: 1.8615e-07 - mean_absolute_error: 3.3071e-04 - val_loss: 2.3599e-07 - val_mean_absolute_error: 3.8487e-04\n",
      "Epoch 265/339\n",
      "339/339 [==============================] - 0s 58us/step - loss: 1.7277e-07 - mean_absolute_error: 3.3072e-04 - val_loss: 1.9997e-07 - val_mean_absolute_error: 3.3152e-04\n",
      "Epoch 266/339\n",
      "339/339 [==============================] - 0s 62us/step - loss: 1.5882e-07 - mean_absolute_error: 3.0833e-04 - val_loss: 2.2798e-07 - val_mean_absolute_error: 3.6668e-04\n",
      "Epoch 267/339\n",
      "339/339 [==============================] - 0s 59us/step - loss: 1.6590e-07 - mean_absolute_error: 3.1642e-04 - val_loss: 2.9319e-07 - val_mean_absolute_error: 4.2068e-04\n",
      "Epoch 268/339\n",
      "339/339 [==============================] - 0s 64us/step - loss: 1.7799e-07 - mean_absolute_error: 3.1828e-04 - val_loss: 2.9182e-07 - val_mean_absolute_error: 4.1355e-04\n",
      "Epoch 269/339\n",
      "339/339 [==============================] - 0s 59us/step - loss: 1.5624e-07 - mean_absolute_error: 3.0443e-04 - val_loss: 1.9885e-07 - val_mean_absolute_error: 3.1573e-04\n",
      "Epoch 270/339\n",
      "339/339 [==============================] - 0s 59us/step - loss: 1.2920e-07 - mean_absolute_error: 2.9069e-04 - val_loss: 1.9106e-07 - val_mean_absolute_error: 3.0089e-04\n",
      "Epoch 271/339\n",
      "339/339 [==============================] - 0s 62us/step - loss: 1.4414e-07 - mean_absolute_error: 2.8704e-04 - val_loss: 1.8893e-07 - val_mean_absolute_error: 2.9117e-04\n",
      "Epoch 272/339\n",
      "339/339 [==============================] - 0s 62us/step - loss: 1.1846e-07 - mean_absolute_error: 2.4265e-04 - val_loss: 2.3866e-07 - val_mean_absolute_error: 3.3815e-04\n",
      "Epoch 273/339\n",
      "339/339 [==============================] - 0s 55us/step - loss: 1.2356e-07 - mean_absolute_error: 2.5519e-04 - val_loss: 2.0140e-07 - val_mean_absolute_error: 2.9299e-04\n",
      "Epoch 274/339\n",
      "339/339 [==============================] - 0s 57us/step - loss: 1.1492e-07 - mean_absolute_error: 2.4166e-04 - val_loss: 2.0193e-07 - val_mean_absolute_error: 2.8753e-04\n",
      "Epoch 275/339\n",
      "339/339 [==============================] - 0s 62us/step - loss: 1.0664e-07 - mean_absolute_error: 2.3163e-04 - val_loss: 1.7796e-07 - val_mean_absolute_error: 2.5470e-04\n",
      "Epoch 276/339\n",
      "339/339 [==============================] - 0s 56us/step - loss: 1.0750e-07 - mean_absolute_error: 2.2978e-04 - val_loss: 1.7911e-07 - val_mean_absolute_error: 2.4946e-04\n",
      "Epoch 277/339\n",
      "339/339 [==============================] - 0s 59us/step - loss: 1.2910e-07 - mean_absolute_error: 2.5046e-04 - val_loss: 1.8449e-07 - val_mean_absolute_error: 2.4812e-04\n",
      "Epoch 278/339\n",
      "339/339 [==============================] - 0s 65us/step - loss: 1.0722e-07 - mean_absolute_error: 2.3023e-04 - val_loss: 2.6749e-07 - val_mean_absolute_error: 3.3187e-04\n",
      "Epoch 279/339\n",
      "339/339 [==============================] - 0s 65us/step - loss: 1.0559e-07 - mean_absolute_error: 2.1756e-04 - val_loss: 2.2194e-07 - val_mean_absolute_error: 2.7549e-04\n",
      "Epoch 280/339\n",
      "339/339 [==============================] - 0s 62us/step - loss: 9.7007e-08 - mean_absolute_error: 1.9726e-04 - val_loss: 1.9844e-07 - val_mean_absolute_error: 2.4538e-04\n",
      "Epoch 281/339\n",
      "339/339 [==============================] - 0s 56us/step - loss: 9.6129e-08 - mean_absolute_error: 1.9480e-04 - val_loss: 2.0939e-07 - val_mean_absolute_error: 2.5158e-04\n",
      "Epoch 282/339\n",
      "339/339 [==============================] - 0s 59us/step - loss: 9.9442e-08 - mean_absolute_error: 2.0884e-04 - val_loss: 2.1275e-07 - val_mean_absolute_error: 2.4891e-04\n"
     ]
    },
    {
     "name": "stdout",
     "output_type": "stream",
     "text": [
      "Epoch 283/339\n",
      "339/339 [==============================] - 0s 58us/step - loss: 1.1195e-07 - mean_absolute_error: 2.4104e-04 - val_loss: 1.8047e-07 - val_mean_absolute_error: 2.5091e-04\n",
      "Epoch 284/339\n",
      "339/339 [==============================] - 0s 62us/step - loss: 9.0109e-08 - mean_absolute_error: 1.9074e-04 - val_loss: 2.0382e-07 - val_mean_absolute_error: 2.2917e-04\n",
      "Epoch 285/339\n",
      "339/339 [==============================] - 0s 62us/step - loss: 8.3405e-08 - mean_absolute_error: 1.7662e-04 - val_loss: 1.7844e-07 - val_mean_absolute_error: 2.1763e-04\n",
      "Epoch 286/339\n",
      "339/339 [==============================] - 0s 65us/step - loss: 1.1308e-07 - mean_absolute_error: 2.2916e-04 - val_loss: 2.1662e-07 - val_mean_absolute_error: 2.3283e-04\n",
      "Epoch 287/339\n",
      "339/339 [==============================] - 0s 65us/step - loss: 1.0027e-07 - mean_absolute_error: 1.9888e-04 - val_loss: 2.6220e-07 - val_mean_absolute_error: 2.8164e-04\n",
      "Epoch 288/339\n",
      "339/339 [==============================] - 0s 59us/step - loss: 8.3437e-08 - mean_absolute_error: 1.6702e-04 - val_loss: 1.8112e-07 - val_mean_absolute_error: 2.0952e-04\n",
      "Epoch 289/339\n",
      "339/339 [==============================] - 0s 68us/step - loss: 8.8229e-08 - mean_absolute_error: 1.7396e-04 - val_loss: 1.9615e-07 - val_mean_absolute_error: 1.9939e-04\n",
      "Epoch 290/339\n",
      "339/339 [==============================] - 0s 73us/step - loss: 9.3572e-08 - mean_absolute_error: 1.7742e-04 - val_loss: 2.2442e-07 - val_mean_absolute_error: 2.2436e-04\n",
      "Epoch 291/339\n",
      "339/339 [==============================] - 0s 56us/step - loss: 8.3203e-08 - mean_absolute_error: 1.5704e-04 - val_loss: 2.0882e-07 - val_mean_absolute_error: 2.0290e-04\n",
      "Epoch 292/339\n",
      "339/339 [==============================] - 0s 56us/step - loss: 7.9118e-08 - mean_absolute_error: 1.5160e-04 - val_loss: 1.8662e-07 - val_mean_absolute_error: 1.9770e-04\n",
      "Epoch 293/339\n",
      "339/339 [==============================] - 0s 59us/step - loss: 8.5207e-08 - mean_absolute_error: 1.6860e-04 - val_loss: 1.9916e-07 - val_mean_absolute_error: 2.7715e-04\n",
      "Epoch 294/339\n",
      "339/339 [==============================] - 0s 65us/step - loss: 9.7031e-08 - mean_absolute_error: 1.7787e-04 - val_loss: 1.9838e-07 - val_mean_absolute_error: 1.8573e-04\n",
      "Epoch 295/339\n",
      "339/339 [==============================] - 0s 62us/step - loss: 8.0117e-08 - mean_absolute_error: 1.4613e-04 - val_loss: 2.2289e-07 - val_mean_absolute_error: 2.0393e-04\n",
      "Epoch 296/339\n",
      "339/339 [==============================] - 0s 60us/step - loss: 8.0120e-08 - mean_absolute_error: 1.4222e-04 - val_loss: 2.2372e-07 - val_mean_absolute_error: 2.0330e-04\n",
      "Epoch 297/339\n",
      "339/339 [==============================] - 0s 59us/step - loss: 8.2658e-08 - mean_absolute_error: 1.4933e-04 - val_loss: 2.3377e-07 - val_mean_absolute_error: 2.1098e-04\n",
      "Epoch 298/339\n",
      "339/339 [==============================] - 0s 59us/step - loss: 7.6319e-08 - mean_absolute_error: 1.6357e-04 - val_loss: 1.8991e-07 - val_mean_absolute_error: 2.0978e-04\n",
      "Epoch 299/339\n",
      "339/339 [==============================] - 0s 65us/step - loss: 8.4279e-08 - mean_absolute_error: 1.5135e-04 - val_loss: 1.9128e-07 - val_mean_absolute_error: 1.9500e-04\n",
      "Epoch 300/339\n",
      "339/339 [==============================] - 0s 56us/step - loss: 8.6210e-08 - mean_absolute_error: 1.4679e-04 - val_loss: 1.9796e-07 - val_mean_absolute_error: 1.7734e-04\n",
      "Epoch 301/339\n",
      "339/339 [==============================] - 0s 62us/step - loss: 7.9521e-08 - mean_absolute_error: 1.3199e-04 - val_loss: 2.2171e-07 - val_mean_absolute_error: 1.8711e-04\n",
      "Epoch 302/339\n",
      "339/339 [==============================] - 0s 68us/step - loss: 7.6066e-08 - mean_absolute_error: 1.3052e-04 - val_loss: 2.3569e-07 - val_mean_absolute_error: 2.0028e-04\n",
      "Epoch 303/339\n",
      "339/339 [==============================] - 0s 68us/step - loss: 8.4215e-08 - mean_absolute_error: 1.4286e-04 - val_loss: 2.5415e-07 - val_mean_absolute_error: 2.2189e-04\n",
      "Epoch 304/339\n",
      "339/339 [==============================] - 0s 63us/step - loss: 8.1364e-08 - mean_absolute_error: 1.3852e-04 - val_loss: 2.2252e-07 - val_mean_absolute_error: 1.7974e-04\n",
      "Epoch 305/339\n",
      "339/339 [==============================] - 0s 59us/step - loss: 7.8505e-08 - mean_absolute_error: 1.3741e-04 - val_loss: 2.4466e-07 - val_mean_absolute_error: 2.0477e-04\n",
      "Epoch 306/339\n",
      "339/339 [==============================] - 0s 57us/step - loss: 8.8020e-08 - mean_absolute_error: 1.6458e-04 - val_loss: 3.2536e-07 - val_mean_absolute_error: 3.1335e-04\n",
      "Epoch 307/339\n",
      "339/339 [==============================] - 0s 71us/step - loss: 9.1736e-08 - mean_absolute_error: 1.7101e-04 - val_loss: 2.4879e-07 - val_mean_absolute_error: 2.0549e-04\n",
      "Epoch 308/339\n",
      "339/339 [==============================] - 0s 62us/step - loss: 7.7718e-08 - mean_absolute_error: 1.2598e-04 - val_loss: 2.4869e-07 - val_mean_absolute_error: 2.0521e-04\n",
      "Epoch 309/339\n",
      "339/339 [==============================] - 0s 55us/step - loss: 8.7775e-08 - mean_absolute_error: 1.4946e-04 - val_loss: 2.4818e-07 - val_mean_absolute_error: 2.0299e-04\n",
      "Epoch 310/339\n",
      "339/339 [==============================] - 0s 60us/step - loss: 9.0939e-08 - mean_absolute_error: 1.6417e-04 - val_loss: 2.4778e-07 - val_mean_absolute_error: 2.0120e-04\n",
      "Epoch 311/339\n",
      "339/339 [==============================] - 0s 56us/step - loss: 8.9160e-08 - mean_absolute_error: 1.6424e-04 - val_loss: 2.5843e-07 - val_mean_absolute_error: 2.1614e-04\n",
      "Epoch 312/339\n",
      "339/339 [==============================] - 0s 59us/step - loss: 7.4773e-08 - mean_absolute_error: 1.2869e-04 - val_loss: 2.3420e-07 - val_mean_absolute_error: 1.7938e-04\n",
      "Epoch 313/339\n",
      "339/339 [==============================] - 0s 65us/step - loss: 7.4123e-08 - mean_absolute_error: 1.2383e-04 - val_loss: 2.0328e-07 - val_mean_absolute_error: 1.7310e-04\n",
      "Epoch 314/339\n",
      "339/339 [==============================] - 0s 65us/step - loss: 7.5980e-08 - mean_absolute_error: 1.1796e-04 - val_loss: 2.2304e-07 - val_mean_absolute_error: 1.6540e-04\n",
      "Epoch 315/339\n",
      "339/339 [==============================] - 0s 59us/step - loss: 7.7555e-08 - mean_absolute_error: 1.2382e-04 - val_loss: 2.0224e-07 - val_mean_absolute_error: 1.7925e-04\n",
      "Epoch 316/339\n",
      "339/339 [==============================] - 0s 59us/step - loss: 8.1572e-08 - mean_absolute_error: 1.4505e-04 - val_loss: 1.9945e-07 - val_mean_absolute_error: 2.0573e-04\n",
      "Epoch 317/339\n",
      "339/339 [==============================] - 0s 56us/step - loss: 8.3386e-08 - mean_absolute_error: 1.6934e-04 - val_loss: 2.3200e-07 - val_mean_absolute_error: 1.6994e-04\n",
      "Epoch 318/339\n",
      "339/339 [==============================] - 0s 57us/step - loss: 7.8747e-08 - mean_absolute_error: 1.2573e-04 - val_loss: 2.2073e-07 - val_mean_absolute_error: 1.5822e-04\n",
      "Epoch 319/339\n",
      "339/339 [==============================] - 0s 59us/step - loss: 7.4989e-08 - mean_absolute_error: 1.1433e-04 - val_loss: 2.3293e-07 - val_mean_absolute_error: 1.6884e-04\n",
      "Epoch 320/339\n",
      "339/339 [==============================] - 0s 71us/step - loss: 8.1377e-08 - mean_absolute_error: 1.2327e-04 - val_loss: 2.4696e-07 - val_mean_absolute_error: 1.8521e-04\n",
      "Epoch 321/339\n",
      "339/339 [==============================] - 0s 56us/step - loss: 7.7751e-08 - mean_absolute_error: 1.1658e-04 - val_loss: 2.2332e-07 - val_mean_absolute_error: 1.5748e-04\n",
      "Epoch 322/339\n",
      "339/339 [==============================] - 0s 71us/step - loss: 7.7489e-08 - mean_absolute_error: 1.2388e-04 - val_loss: 2.1753e-07 - val_mean_absolute_error: 1.5644e-04\n",
      "Epoch 323/339\n",
      "339/339 [==============================] - 0s 65us/step - loss: 9.2068e-08 - mean_absolute_error: 1.7732e-04 - val_loss: 2.2963e-07 - val_mean_absolute_error: 1.6500e-04\n",
      "Epoch 324/339\n",
      "339/339 [==============================] - 0s 59us/step - loss: 9.2332e-08 - mean_absolute_error: 1.6066e-04 - val_loss: 2.1040e-07 - val_mean_absolute_error: 1.6256e-04\n",
      "Epoch 325/339\n",
      "339/339 [==============================] - 0s 64us/step - loss: 8.4776e-08 - mean_absolute_error: 1.3992e-04 - val_loss: 2.0355e-07 - val_mean_absolute_error: 1.8715e-04\n",
      "Epoch 326/339\n",
      "339/339 [==============================] - 0s 59us/step - loss: 8.0856e-08 - mean_absolute_error: 1.2385e-04 - val_loss: 2.2532e-07 - val_mean_absolute_error: 1.5605e-04\n",
      "Epoch 327/339\n",
      "339/339 [==============================] - 0s 59us/step - loss: 7.4478e-08 - mean_absolute_error: 1.1889e-04 - val_loss: 2.0240e-07 - val_mean_absolute_error: 2.0303e-04\n",
      "Epoch 328/339\n",
      "339/339 [==============================] - 0s 62us/step - loss: 8.2051e-08 - mean_absolute_error: 1.3317e-04 - val_loss: 2.0458e-07 - val_mean_absolute_error: 1.8608e-04\n",
      "Epoch 329/339\n",
      "339/339 [==============================] - 0s 65us/step - loss: 7.7111e-08 - mean_absolute_error: 1.3225e-04 - val_loss: 2.1024e-07 - val_mean_absolute_error: 2.7331e-04\n",
      "Epoch 330/339\n",
      "339/339 [==============================] - 0s 60us/step - loss: 9.3277e-08 - mean_absolute_error: 1.7108e-04 - val_loss: 2.0341e-07 - val_mean_absolute_error: 1.9101e-04\n",
      "Epoch 331/339\n",
      "339/339 [==============================] - 0s 62us/step - loss: 7.7143e-08 - mean_absolute_error: 1.3310e-04 - val_loss: 2.0320e-07 - val_mean_absolute_error: 2.2393e-04\n",
      "Epoch 332/339\n",
      "339/339 [==============================] - ETA: 0s - loss: 9.6964e-08 - mean_absolute_error: 1.9866e-0 - 0s 65us/step - loss: 8.1423e-08 - mean_absolute_error: 1.4121e-04 - val_loss: 2.0354e-07 - val_mean_absolute_error: 1.9499e-04\n",
      "Epoch 333/339\n",
      "339/339 [==============================] - 0s 62us/step - loss: 8.1369e-08 - mean_absolute_error: 1.3469e-04 - val_loss: 2.2252e-07 - val_mean_absolute_error: 1.5396e-04\n",
      "Epoch 334/339\n",
      "339/339 [==============================] - 0s 62us/step - loss: 7.4156e-08 - mean_absolute_error: 1.0369e-04 - val_loss: 2.2142e-07 - val_mean_absolute_error: 1.5392e-04\n",
      "Epoch 335/339\n",
      "339/339 [==============================] - 0s 59us/step - loss: 7.6491e-08 - mean_absolute_error: 1.0653e-04 - val_loss: 2.2421e-07 - val_mean_absolute_error: 1.5515e-04\n",
      "Epoch 336/339\n",
      "339/339 [==============================] - 0s 65us/step - loss: 8.0208e-08 - mean_absolute_error: 1.3576e-04 - val_loss: 2.3283e-07 - val_mean_absolute_error: 1.6315e-04\n",
      "Epoch 337/339\n",
      "339/339 [==============================] - 0s 62us/step - loss: 7.5830e-08 - mean_absolute_error: 1.3165e-04 - val_loss: 2.5078e-07 - val_mean_absolute_error: 1.8697e-04\n",
      "Epoch 338/339\n",
      "339/339 [==============================] - 0s 59us/step - loss: 8.5546e-08 - mean_absolute_error: 1.6182e-04 - val_loss: 3.0121e-07 - val_mean_absolute_error: 2.6369e-04\n",
      "Epoch 339/339\n",
      "339/339 [==============================] - 0s 64us/step - loss: 8.6264e-08 - mean_absolute_error: 1.4668e-04 - val_loss: 2.5212e-07 - val_mean_absolute_error: 1.8789e-04\n"
     ]
    }
   ],
   "source": [
    "history = model.fit(X_train, Y_train, validation_data=(X_test,Y_test), epochs=339, batch_size=32)"
   ]
  },
  {
   "cell_type": "code",
   "execution_count": 76,
   "metadata": {},
   "outputs": [
    {
     "data": {
      "image/png": "[encoded data removed]",
      "text/plain": [
       "<Figure size 1080x576 with 1 Axes>"
      ]
     },
     "metadata": {},
     "output_type": "display_data"
    },
    {
     "data": {
      "image/png": "[encoded data removed]",
      "text/plain": [
       "<Figure size 1080x576 with 1 Axes>"
      ]
     },
     "metadata": {},
     "output_type": "display_data"
    }
   ],
   "source": [
    "plt.plot(history.history['mean_absolute_error'])\n",
    "plt.plot(history.history['val_mean_absolute_error'])\n",
    "plt.title('model accuracy')\n",
    "plt.ylabel('accuracy')\n",
    "plt.xlabel('epoch')\n",
    "plt.legend(['train', 'test'], loc='upper left')\n",
    "plt.show()\n",
    "# summarize history for loss\n",
    "plt.plot(history.history['loss'])\n",
    "plt.plot(history.history['val_loss'])\n",
    "plt.title('model loss')\n",
    "plt.ylabel('loss')\n",
    "plt.xlabel('epoch')\n",
    "plt.legend(['train', 'test'], loc='upper left')\n",
    "plt.show()"
   ]
  },
  {
   "cell_type": "markdown",
   "metadata": {},
   "source": [
    "This result is not very good and gives us a mean absolute error just above 20000 dollars. I beleive this model performs bad due to the fact that we have a quite small data-set becuase a neural network performs the best when having a big dataset[19]"
   ]
  },
  {
   "cell_type": "code",
   "execution_count": null,
   "metadata": {},
   "outputs": [],
   "source": [
    "# https://levelup.gitconnected.com/predict-boston-house-prices-using-python-linear-regression-90469e0a341\n",
    "\n",
    "# https://bigdata-madesimple.com/how-to-run-linear-regression-in-python-scikit-learn/\n",
    "\n",
    "# https://towardsdatascience.com/predicting-house-prices-with-linear-regression-machine-learning-from-scratch-part-ii-47a0238aeac1\n",
    "\n",
    "# https://www.kaggle.com/erick5/predicting-house-prices-with-machine-learning\n",
    "\n",
    "# https://jjallaire.github.io/deep-learning-with-r-notebooks/notebooks/3.6-predicting-house-prices.nb.html\n",
    "\n",
    "# https://towardsdatascience.com/create-a-model-to-predict-house-prices-using-python-d34fe8fad88f\n",
    "\n",
    "# https://www.kaggle.com/shanekonaung/boston-housing-price-dataset-with-keras\n",
    "\n",
    "### https://medium.com/@cyrilivargarcia/tensorflow-and-keras-a-beginners-tutorial-by-a-beginner-abd4c90f814f"
   ]
  },
  {
   "cell_type": "markdown",
   "metadata": {},
   "source": [
    "### References"
   ]
  },
  {
   "cell_type": "markdown",
   "metadata": {},
   "source": [
    "1. https://medium.com/@haydar_ai/learning-data-science-day-9-linear-regression-on-boston-housing-dataset-cd62a80775ef"
   ]
  },
  {
   "cell_type": "markdown",
   "metadata": {},
   "source": [
    "3. https://towardsdatascience.com/linear-regression-on-boston-housing-dataset-f409b7e4a155"
   ]
  },
  {
   "cell_type": "markdown",
   "metadata": {},
   "source": [
    "5. https://towardsdatascience.com/machine-learning-project-predicting-boston-house-prices-with-regression-b4e47493633d"
   ]
  },
  {
   "cell_type": "markdown",
   "metadata": {},
   "source": [
    "6. https://scikit-learn.org/stable/modules/generated/sklearn.datasets.load_boston.html#sklearn.datasets.load_boston"
   ]
  },
  {
   "cell_type": "markdown",
   "metadata": {},
   "source": [
    "7. https://rstudio-pubs-static.s3.amazonaws.com/364346_811c9012a14847428c9b1fc1e956431a.html?source=post_page---------------------------"
   ]
  },
  {
   "cell_type": "markdown",
   "metadata": {},
   "source": [
    "8. https://www.cs.toronto.edu/~delve/data/boston/bostonDetail.html"
   ]
  },
  {
   "cell_type": "markdown",
   "metadata": {},
   "source": [
    "9. https://www.kaggle.com/sagarnildass/predicting-boston-house-prices"
   ]
  },
  {
   "cell_type": "markdown",
   "metadata": {},
   "source": [
    "10. https://towardsdatascience.com/linear-regression-on-boston-housing-dataset-f409b7e4a155"
   ]
  },
  {
   "cell_type": "markdown",
   "metadata": {},
   "source": [
    "11.https://pandas.pydata.org/pandas-docs/stable/reference/api/pandas.DataFrame.describe.html"
   ]
  },
  {
   "cell_type": "markdown",
   "metadata": {},
   "source": [
    "11. https://www.kaggle.com/shanekonaung/boston-housing-price-dataset-with-keras"
   ]
  },
  {
   "cell_type": "markdown",
   "metadata": {},
   "source": [
    "12. https://www.displayr.com/what-is-a-correlation-matrix/"
   ]
  },
  {
   "cell_type": "markdown",
   "metadata": {},
   "source": [
    "13. http://www.stat.yale.edu/Courses/1997-98/101/linreg.htm"
   ]
  },
  {
   "cell_type": "markdown",
   "metadata": {},
   "source": [
    "14. https://www.dummies.com/education/math/statistics/how-to-calculate-a-regression-line/"
   ]
  },
  {
   "cell_type": "markdown",
   "metadata": {},
   "source": [
    "15. https://docs.microsoft.com/en-us/analysis-services/data-mining/training-and-testing-data-sets"
   ]
  },
  {
   "cell_type": "markdown",
   "metadata": {},
   "source": [
    "16. https://medium.com/@haydar_ai/learning-data-science-day-9-linear-regression-on-boston-housing-dataset-cd62a80775ef"
   ]
  },
  {
   "cell_type": "markdown",
   "metadata": {},
   "source": [
    "17. https://keydifferences.com/differences-between-skewness-and-kurtosis.html"
   ]
  },
  {
   "cell_type": "markdown",
   "metadata": {},
   "source": [
    "18. https://codeburst.io/2-important-statistics-terms-you-need-to-know-in-data-science-skewness-and-kurtosis-388fef94eeaa"
   ]
  },
  {
   "cell_type": "markdown",
   "metadata": {},
   "source": [
    "19. https://en.wikipedia.org/wiki/Descriptive_statistics"
   ]
  },
  {
   "cell_type": "markdown",
   "metadata": {},
   "source": [
    "[20] https://en.wikipedia.org/wiki/Statistical_inference"
   ]
  }
 ],
 "metadata": {
  "kernelspec": {
   "display_name": "Python 3",
   "language": "python",
   "name": "python3"
  },
  "language_info": {
   "codemirror_mode": {
    "name": "ipython",
    "version": 3
   },
   "file_extension": ".py",
   "mimetype": "text/x-python",
   "name": "python",
   "nbconvert_exporter": "python",
   "pygments_lexer": "ipython3",
   "version": "3.7.3"
  }
 },
 "nbformat": 4,
 "nbformat_minor": 2
}
